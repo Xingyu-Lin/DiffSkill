{
 "cells": [
  {
   "cell_type": "code",
   "execution_count": 1,
   "metadata": {
    "collapsed": true
   },
   "outputs": [
    {
     "name": "stdout",
     "output_type": "stream",
     "text": [
      "[Errno 2] No such file or directory: '/home/xingyu/Projects/dynamic_abstraction'\n",
      "/home/jianrenw/carl/research/dev/dynamic_abstraction/dyn_abs/gen_init_target/tests\n"
     ]
    }
   ],
   "source": [
    "%load_ext autoreload\n",
    "%autoreload 2\n",
    "%cd '/home/xingyu/Projects/dynamic_abstraction'\n",
    "%pwd\n",
    "%matplotlib inline\n",
    "\n",
    "state_path = './datasets/0323_multimerge_train/init/state_2119.xz'"
   ]
  },
  {
   "cell_type": "code",
   "execution_count": null,
   "metadata": {},
   "outputs": [
    {
     "name": "stdout",
     "output_type": "stream",
     "text": [
      "The autoreload extension is already loaded. To reload it, use:\n",
      "  %reload_ext autoreload\n",
      "/home/jianrenw/carl/research/dev/dynamic_abstraction\n"
     ]
    }
   ],
   "source": [
    "%load_ext autoreload\n",
    "%autoreload 2\n",
    "%cd '/home/jianrenw/carl/research/dev/dynamic_abstraction'\n",
    "%pwd\n",
    "%matplotlib inline\n",
    "import os\n",
    "os.environ['CUDA_VISIBLE_DEVICES'] = '2'\n",
    "state_path = './datasets/0202_gathermove/init/state_1.xz'"
   ]
  },
  {
   "cell_type": "code",
   "execution_count": 4,
   "metadata": {
    "collapsed": false,
    "pycharm": {
     "name": "#%%\n"
    }
   },
   "outputs": [],
   "source": [
    "import lzma\n",
    "import pickle\n",
    "\n",
    "with lzma.open(state_path, 'rb') as f:\n",
    "    state  = pickle.load(f)\n",
    "x, v, F, C = state['state'][:4]\n",
    "print(x.shape)\n",
    "import numpy as np\n",
    "d = np.linalg.norm(x, axis=-1)\n",
    "print(np.argwhere(d==0))\n",
    "import open3d as o3d\n",
    "pcd = o3d.geometry.PointCloud()\n",
    "pcd.points = o3d.utility.Vector3dVector(x)\n",
    "o3d.visualization.draw_geometries([pcd])"
   ]
  },
  {
   "cell_type": "code",
   "execution_count": 57,
   "metadata": {
    "collapsed": false,
    "pycharm": {
     "name": "#%%\n"
    }
   },
   "outputs": [
    {
     "name": "stdout",
     "output_type": "stream",
     "text": [
      "(15000, 3)\n"
     ]
    }
   ],
   "source": [
    "filename = 'PointFlow/data/ShapeNetCore.v2.PC15k/02691156/train/1203825bf97bc3524722e1824a086fad.npy'\n",
    "import numpy as np\n",
    "d = np.load(filename)\n",
    "print(d.shape)\n",
    "\n",
    "pcd = o3d.geometry.PointCloud()\n",
    "pcd.points = o3d.utility.Vector3dVector(d)\n",
    "o3d.visualization.draw_geometries([pcd])"
   ]
  }
 ],
 "metadata": {
  "kernelspec": {
   "display_name": "Python 3",
   "language": "python",
   "name": "python3"
  },
  "language_info": {
   "codemirror_mode": {
    "name": "ipython",
    "version": 3
   },
   "file_extension": ".py",
   "mimetype": "text/x-python",
   "name": "python",
   "nbconvert_exporter": "python",
   "pygments_lexer": "ipython3",
   "version": "3.8.11"
  }
 },
 "nbformat": 4,
 "nbformat_minor": 0
}
