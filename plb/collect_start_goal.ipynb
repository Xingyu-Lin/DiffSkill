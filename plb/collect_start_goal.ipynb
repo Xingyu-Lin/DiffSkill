{
 "cells": [
  {
   "cell_type": "code",
   "execution_count": 1,
   "metadata": {
    "collapsed": true
   },
   "outputs": [],
   "source": [
    "import tqdm\n",
    "%load_ext autoreload\n",
    "%autoreload 2\n"
   ]
  },
  {
   "cell_type": "code",
   "execution_count": 2,
   "outputs": [
    {
     "name": "stdout",
     "output_type": "stream",
     "text": [
      "/home/hza/PlasticineLab/plb/cut\n"
     ]
    }
   ],
   "source": [
    "%cd /home/hza/PlasticineLab/plb/cut\n"
   ],
   "metadata": {
    "collapsed": false,
    "pycharm": {
     "name": "#%%\n"
    }
   }
  },
  {
   "cell_type": "code",
   "execution_count": 3,
   "outputs": [],
   "source": [
    "import os\n",
    "import glob\n",
    "import torch\n",
    "os.makedirs('remain', exist_ok=True)"
   ],
   "metadata": {
    "collapsed": false,
    "pycharm": {
     "name": "#%%\n"
    }
   }
  },
  {
   "cell_type": "code",
   "execution_count": 4,
   "outputs": [
    {
     "name": "stdout",
     "output_type": "stream",
     "text": [
      "[Taichi] mode=release\n",
      "[Taichi] preparing sandbox at /tmp/taichi-huu0y0_f\n",
      "[Taichi] version 0.7.26, llvm 10.0.0, commit e37bdb5e, linux, python 3.7.11\n",
      "[I 09/27/21 20:45:55.944 2443166] [shell.py:_shell_pop_print@35] Graphical python shell detected, using wrapped sys.stdout\n",
      "[Taichi] Starting on arch=cuda\n",
      "[Tina] version 0.1.1\n",
      "[Tina] Taichi properties hacked\n",
      "pimirives: num primitive: 2\n",
      "Building primitive\n",
      "action:\n",
      "  dim: 3\n",
      "  scale: (0.015, 0.015, 0.015)\n",
      "collision_group: [0.0, 0.0, 0.0]\n",
      "color: (0.8, 0.8, 0.8)\n",
      "friction: 0.0\n",
      "h: (0.15, 0.15)\n",
      "init_pos: (0.5, 0.3, 0.5)\n",
      "init_rot: (1.0, 0.0, 0.0, 0.0)\n",
      "lower_bound: (0.0, 0.0, 0.0)\n",
      "prot: (1.0, 0.0, 0.0, 0.58)\n",
      "shape: Knife\n",
      "size: (0.025, 0.2, 0.06)\n",
      "upper_bound: (1.0, 1.0, 1.0)\n",
      "variations: None\n",
      "Building primitive\n",
      "action:\n",
      "  dim: 0\n",
      "  scale: ()\n",
      "collision_group: [0.0, 0.0, 0.0]\n",
      "color: (0.3, 0.3, 0.3)\n",
      "friction: 0.9\n",
      "h: (0.15, 0.15)\n",
      "init_pos: (0.3, 0.3, 0.3)\n",
      "init_rot: (1.0, 0.0, 0.0, 0.0)\n",
      "lower_bound: (0.0, 0.0, 0.0)\n",
      "prot: (1.0, 0.0, 0.0, 0.58)\n",
      "shape: \n",
      "upper_bound: (1.0, 1.0, 1.0)\n",
      "variations: None\n",
      "Building primitive\n",
      "action:\n",
      "  dim: 0\n",
      "  scale: ()\n",
      "collision_group: [0.0, 0.0, 0.0]\n",
      "color: (0.3, 0.3, 0.3)\n",
      "friction: 0.9\n",
      "init_pos: (0.3, 0.3, 0.3)\n",
      "init_rot: (1.0, 0.0, 0.0, 0.0)\n",
      "lower_bound: (0.0, 0.0, 0.0)\n",
      "shape: \n",
      "size: (0.025, 0.2, 0.06)\n",
      "upper_bound: (1.0, 1.0, 1.0)\n",
      "variations: None\n",
      "Building primitive\n",
      "action:\n",
      "  dim: 7\n",
      "  scale: (0.015, 0.015, 0.015, 0.0, 0.0, 0.0, 0.015)\n",
      "collision_group: [0.0, 0.0, 0.0]\n",
      "color: (0.8, 0.8, 0.8)\n",
      "friction: 10.0\n",
      "init_gap: 0.2\n",
      "init_pos: (0.5, 0.15, 0.5)\n",
      "init_rot: (0.707, 0.0, 0.707, 0.0)\n",
      "lower_bound: (0.0, 0.0, 0.0)\n",
      "maximal_gap: 0.2\n",
      "minimal_gap: 0.08\n",
      "round: 0\n",
      "shape: Gripper\n",
      "size: (0.015, 0.1, 0.06)\n",
      "upper_bound: (1.0, 1.0, 1.0)\n",
      "variations: None\n",
      "{'init_pos': (0.5, 0.12, 0.5), 'width': (0.2, 0.08, 0.08), 'color': 100, 'n_particles': 5000}\n",
      "Initialize Tina Renderer\n",
      "bake_size: 6  \n",
      "cam_center: (0.5, 0.4, 0.5)  \n",
      "cam_phi: -1.0  \n",
      "cam_radius: 1.0  \n",
      "cam_theta: 0.0  \n",
      "camera_pos: (0.5, 1.2, 4.0)  \n",
      "camera_rot: (0.2, 0)  \n",
      "dx: 0.006666666666666667  \n",
      "image_res: (512, 512)  \n",
      "light_direction: (0.0, 1.0, 1.0)  \n",
      "max_num_particles: 1000000  \n",
      "max_ray_depth: 2  \n",
      "mesh: False  \n",
      "name: tina  \n",
      "sdf_threshold: 0.20720000000000002  \n",
      "spp: 50  \n",
      "target_res: (64, 64, 64)  \n",
      "tina_img_res: 1024  \n",
      "use_directional_light: True  \n",
      "use_roulette: False  \n",
      "voxel_res: (168, 168, 168)\n",
      "[Tina] Hint: MMB to orbit, Shift+MMB to pan, wheel to zoom\n",
      "{'init_pos': (0.5, 0.12, 0.5), 'width': (0.2, 0.08, 0.08), 'color': 100, 'n_particles': 5000}\n",
      "[W 09/27/21 20:46:30.818 2443166] [type_check.cpp:visit@100] [$69819] Local store may lose precision (target = i32, value = f32) at\n",
      "[W 09/27/21 20:46:30.818 2443166] [type_check.cpp:visit@101] \n",
      "  File \"/home/hza/PlasticineLab/plb/engine/mpm_simulator.py\", line 218, in grid_op\n",
      "    v_out = self.primitives.primitives[i].collide(f, I * self.dx, v_out, self.dt, self.grid_m[I])\n",
      "  File \"/home/hza/anaconda3/envs/xingyu/lib/python3.7/site-packages/taichi/lang/kernel_impl.py\", line 50, in decorated\n",
      "    return fun.__call__(*args)\n",
      "  File \"/home/hza/anaconda3/envs/xingyu/lib/python3.7/site-packages/taichi/lang/kernel_impl.py\", line 122, in __call__\n",
      "    ret = self.compiled(*args)\n",
      "  File \"/home/hza/PlasticineLab/plb/engine/primitive/primitives.py\", line 355, in collide\n",
      "    v_out1 = self.collide2(f, grid_pos, v_out, dt, mass, -1)\n",
      "  File \"/home/hza/anaconda3/envs/xingyu/lib/python3.7/site-packages/taichi/lang/kernel_impl.py\", line 50, in decorated\n",
      "    return fun.__call__(*args)\n",
      "  File \"/home/hza/anaconda3/envs/xingyu/lib/python3.7/site-packages/taichi/lang/kernel_impl.py\", line 122, in __call__\n",
      "    ret = self.compiled(*args)\n",
      "  File \"/home/hza/PlasticineLab/plb/engine/primitive/primitives.py\", line 378, in collide2\n",
      "    flag = ti.cast(normal_component < 0 and ti.sqrt(grid_v_t.dot(grid_v_t)) > 1e-30, self.dtype)\n",
      "  File \"/home/hza/anaconda3/envs/xingyu/lib/python3.7/site-packages/taichi/lang/util.py\", line 163, in wrapped\n",
      "    return func(*args, **kwargs)\n",
      "  File \"/home/hza/anaconda3/envs/xingyu/lib/python3.7/site-packages/taichi/lang/impl.py\", line 202, in maybe_transform_ti_func_call_to_stmt\n",
      "    return ti_func(*args, **kwargs)\n",
      "  File \"/home/hza/anaconda3/envs/xingyu/lib/python3.7/site-packages/taichi/lang/common_ops.py\", line 227, in assign\n",
      "    return ti.assign(self, other)\n",
      "  File \"/home/hza/anaconda3/envs/xingyu/lib/python3.7/site-packages/taichi/lang/ops.py\", line 135, in wrapped\n",
      "    return imp_foo(a, b)\n",
      "\n",
      "[W 09/27/21 20:46:30.819 2443166] [type_check.cpp:visit@100] [$72886] Local store may lose precision (target = i32, value = f32) at\n",
      "[W 09/27/21 20:46:30.819 2443166] [type_check.cpp:visit@101] \n",
      "  File \"/home/hza/PlasticineLab/plb/engine/mpm_simulator.py\", line 218, in grid_op\n",
      "    v_out = self.primitives.primitives[i].collide(f, I * self.dx, v_out, self.dt, self.grid_m[I])\n",
      "  File \"/home/hza/anaconda3/envs/xingyu/lib/python3.7/site-packages/taichi/lang/kernel_impl.py\", line 50, in decorated\n",
      "    return fun.__call__(*args)\n",
      "  File \"/home/hza/anaconda3/envs/xingyu/lib/python3.7/site-packages/taichi/lang/kernel_impl.py\", line 122, in __call__\n",
      "    ret = self.compiled(*args)\n",
      "  File \"/home/hza/PlasticineLab/plb/engine/primitive/primitives.py\", line 356, in collide\n",
      "    v_out2 = self.collide2(f, grid_pos, v_out1, dt, mass, 1)\n",
      "  File \"/home/hza/anaconda3/envs/xingyu/lib/python3.7/site-packages/taichi/lang/kernel_impl.py\", line 50, in decorated\n",
      "    return fun.__call__(*args)\n",
      "  File \"/home/hza/anaconda3/envs/xingyu/lib/python3.7/site-packages/taichi/lang/kernel_impl.py\", line 122, in __call__\n",
      "    ret = self.compiled(*args)\n",
      "  File \"/home/hza/PlasticineLab/plb/engine/primitive/primitives.py\", line 378, in collide2\n",
      "    flag = ti.cast(normal_component < 0 and ti.sqrt(grid_v_t.dot(grid_v_t)) > 1e-30, self.dtype)\n",
      "  File \"/home/hza/anaconda3/envs/xingyu/lib/python3.7/site-packages/taichi/lang/util.py\", line 163, in wrapped\n",
      "    return func(*args, **kwargs)\n",
      "  File \"/home/hza/anaconda3/envs/xingyu/lib/python3.7/site-packages/taichi/lang/impl.py\", line 202, in maybe_transform_ti_func_call_to_stmt\n",
      "    return ti_func(*args, **kwargs)\n",
      "  File \"/home/hza/anaconda3/envs/xingyu/lib/python3.7/site-packages/taichi/lang/common_ops.py\", line 227, in assign\n",
      "    return ti.assign(self, other)\n",
      "  File \"/home/hza/anaconda3/envs/xingyu/lib/python3.7/site-packages/taichi/lang/ops.py\", line 135, in wrapped\n",
      "    return imp_foo(a, b)\n",
      "\n"
     ]
    }
   ],
   "source": [
    "from plb.cut.sample_utils import init_env, execute\n",
    "\n",
    "env, state = init_env()"
   ],
   "metadata": {
    "collapsed": false,
    "pycharm": {
     "name": "#%%\n"
    }
   }
  },
  {
   "cell_type": "code",
   "execution_count": 27,
   "outputs": [
    {
     "name": "stderr",
     "output_type": "stream",
     "text": [
      "100%|██████████████████████████████████████████████████████████████████████████████████████████████████████████████████████████████████████| 210/210 [00:03<00:00, 60.66it/s]\n",
      "100%|██████████████████████████████████████████████████████████████████████████████████████████████████████████████████████████████████████| 210/210 [00:03<00:00, 60.47it/s]\n",
      "100%|██████████████████████████████████████████████████████████████████████████████████████████████████████████████████████████████████████| 210/210 [00:03<00:00, 61.04it/s]\n",
      "100%|██████████████████████████████████████████████████████████████████████████████████████████████████████████████████████████████████████| 210/210 [00:03<00:00, 60.89it/s]\n"
     ]
    }
   ],
   "source": [
    "remains = []\n",
    "\n",
    "#TODO: for this part, we only need to run use 1, but it makes nonsense.., we can take special care..\n",
    "tot = 0\n",
    "for i in range(4):\n",
    "    out = sorted(glob.glob(f'sols/sol{i}/traj*_*.pkl'))\n",
    "    os.makedirs(f'remain/{i}', exist_ok=True)\n",
    "    for idx, j in enumerate(tqdm.tqdm(out, total=len(out))):\n",
    "\n",
    "        #if '0.pkl' in j:\n",
    "        #    continue\n",
    "        if idx % 3 == 0:\n",
    "            continue\n",
    "        xx = ('_'.join(j.split('_')[:-1])+'.pkl').replace('sols/sol', 'data/')\n",
    "        #print(xx.replace('data', 'remain'))\n",
    "        data = torch.load(xx)\n",
    "        a = torch.load(j)\n",
    "        goal = data[1]\n",
    "        #reached_state = execute(env, a['initial_state'], a['best_action'], filename=None)\n",
    "        #reached_state = execute(env, a['initial_state'], a['best_action'], filename=None)\n",
    "        initial_state = a['initial_state']\n",
    "        torch.save([initial_state, goal], xx.replace('data', 'remain'))"
   ],
   "metadata": {
    "collapsed": false,
    "pycharm": {
     "name": "#%%\n"
    }
   }
  },
  {
   "cell_type": "code",
   "execution_count": 29,
   "outputs": [],
   "source": [
    "from imitation.train_full import get_args\n",
    "args =get_args()"
   ],
   "metadata": {
    "collapsed": false,
    "pycharm": {
     "name": "#%%\n"
    }
   }
  }
 ],
 "metadata": {
  "kernelspec": {
   "display_name": "Python 3",
   "language": "python",
   "name": "python3"
  },
  "language_info": {
   "codemirror_mode": {
    "name": "ipython",
    "version": 2
   },
   "file_extension": ".py",
   "mimetype": "text/x-python",
   "name": "python",
   "nbconvert_exporter": "python",
   "pygments_lexer": "ipython2",
   "version": "2.7.6"
  }
 },
 "nbformat": 4,
 "nbformat_minor": 0
}