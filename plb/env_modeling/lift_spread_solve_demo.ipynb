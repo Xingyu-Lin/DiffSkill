{
 "cells": [
  {
   "cell_type": "code",
   "execution_count": 2,
   "metadata": {
    "tags": []
   },
   "outputs": [
    {
     "name": "stdout",
     "output_type": "stream",
     "text": [
      "/home/xingyu/Projects/PlasticineLab\n",
      "[Taichi] mode=release\n",
      "[Taichi] preparing sandbox at /tmp/taichi-d72u8q7_\n",
      "[Taichi] version 0.7.26, llvm 10.0.0, commit e37bdb5e, linux, python 3.8.5\n",
      "[Taichi] Starting on arch=cuda\n",
      "[Tina] version 0.1.1\n",
      "[Tina] Taichi properties hacked\n",
      "pimirives: num primitive: 3\n",
      "Building primitive\n",
      "action:\n",
      "  dim: 6\n",
      "  scale: (0.7, 0.005, 0.005, 0.005, 0.0, 0.0)\n",
      "collision_group: [0.0, 0.0, 0.0]\n",
      "color: (0.7568, 0.6039, 0.4196)\n",
      "friction: 0.9\n",
      "h: 0.3\n",
      "init_pos: (0.3, 0.25, 0.5)\n",
      "init_rot: (0.707, 0.707, 0.0, 0.0)\n",
      "lower_bound: (0.0, 0.16, 0.0)\n",
      "r: 0.03\n",
      "shape: RollingPinExt\n",
      "upper_bound: (1.0, 1.0, 1.0)\n",
      "variations: None\n",
      "Building primitive\n",
      "action:\n",
      "  dim: 6\n",
      "  scale: (0.01, 0.01, 0.0, 0.0, 0.0, 0.05)\n",
      "collision_group: [0, 0, 1]\n",
      "color: (0.7568, 0.6039, 0.4196)\n",
      "friction: 50.0\n",
      "init_pos: (0.65, 0.02, 0.5)\n",
      "init_rot: (0.707, 0.707, 0.0, 0.0)\n",
      "lower_bound: (0.0, 0.0, 0.0)\n",
      "shape: Box\n",
      "size: (0.1, 0.1, 0.02)\n",
      "upper_bound: (1.0, 1.0, 1.0)\n",
      "variations: None\n",
      "Building primitive\n",
      "action:\n",
      "  dim: 0\n",
      "  scale: ()\n",
      "collision_group: [0.0, 0.0, 0.0]\n",
      "color: (0.5, 0.5, 0.5)\n",
      "friction: 5.0\n",
      "init_pos: (0.3, 0.05, 0.5)\n",
      "init_rot: (0.707, 0.707, 0.0, 0.0)\n",
      "lower_bound: (0.0, 0.0, 0.0)\n",
      "shape: Box\n",
      "size: (0.2, 0.28, 0.07)\n",
      "upper_bound: (1.0, 1.0, 1.0)\n",
      "variations: None\n",
      "Initialize Tina Renderer\n",
      "bake_size: 6  \n",
      "cam_center: (0.55, 0.07, 0.5)  \n",
      "cam_phi: -0.5  \n",
      "cam_radius: 0.75  \n",
      "cam_theta: 0.0  \n",
      "camera_pos: (0.5, 1.2, 4.0)  \n",
      "camera_rot: (0.2, 0)  \n",
      "dx: 0.006666666666666667  \n",
      "image_res: (128, 128)  \n",
      "light_direction: (0.0, 1.0, 1.0)  \n",
      "max_num_particles: 1000000  \n",
      "max_ray_depth: 2  \n",
      "mesh: False  \n",
      "name: tina  \n",
      "sdf_threshold: 0.20720000000000002  \n",
      "spp: 50  \n",
      "target_res: (64, 64, 64)  \n",
      "tina_img_res: 512  \n",
      "use_directional_light: True  \n",
      "use_roulette: False  \n",
      "voxel_res: (168, 168, 168)\n",
      "[Tina] Hint: MMB to orbit, Shift+MMB to pan, wheel to zoom\n",
      "Env reseting to: /home/xingyu/Projects/PlasticineLab/plb/envs/../../datasets/0923_LiftSpread/target/target_4.npy, init v: 63, target v: 4\n",
      "emd after reset: 0.059920795261859894\n",
      "======================WARNING: contact loss mask not set================\n"
     ]
    }
   ],
   "source": [
    "%load_ext autoreload\n",
    "%autoreload 2\n",
    "%cd '/home/xingyu/Projects/PlasticineLab'\n",
    "%pwd\n",
    "import os\n",
    "os.environ[\"CUDA_VISIBLE_DEVICES\"] = \"1\"\n",
    "\n",
    "from plb.envs import make\n",
    "from imitation.train_full import get_args\n",
    "from plb.engine.taichi_env import TaichiEnv\n",
    "from plb.optimizer.solver import Solver\n",
    "from plb.algorithms.logger import Logger\n",
    "\n",
    "\n",
    "device = 'cuda'\n",
    "\n",
    "log_dir = './data/connect'\n",
    "args = get_args(\"\")\n",
    "\n",
    "obs_channel = len(args.img_mode)\n",
    "img_obs_shape = (args.image_dim, args.image_dim, obs_channel)\n",
    "\n",
    "args.env_name ='LiftSpread-v1'\n",
    "env = make(args.env_name)\n",
    "env.seed(args.seed)\n",
    "taichi_env: TaichiEnv = env.unwrapped.taichi_env\n",
    "T = env._max_episode_steps"
   ]
  },
  {
   "cell_type": "code",
   "execution_count": 2,
   "metadata": {},
   "outputs": [
    {
     "name": "stdout",
     "output_type": "stream",
     "text": [
      "{'init_pos': (0.65, 0.08, 0.5), 'radius': 0.05, 'color': 100}\n",
      "False\n",
      "Env reseting to:  /home/xingyu/Projects/PlasticineLab/plb/envs/../../datasets/0914_LiftSpread/target/target_36.npy\n",
      "emd after reset: 0.30352258682250977\n"
     ]
    },
    {
     "name": "stderr",
     "output_type": "stream",
     "text": [
      "199:  6.748153209686279: 100%|██████████| 200/200 [19:04<00:00,  5.72s/it] \n"
     ]
    },
    {
     "name": "stdout",
     "output_type": "stream",
     "text": [
      "MoviePy - Building file data/env_modeling/solve_lift_demo_0.gif with imageio.\n"
     ]
    },
    {
     "name": "stderr",
     "output_type": "stream",
     "text": [
      "                                                             \r"
     ]
    },
    {
     "name": "stdout",
     "output_type": "stream",
     "text": [
      "{'init_pos': (0.65, 0.08, 0.5), 'radius': 0.05, 'color': 100}\n",
      "False\n",
      "Env reseting to:  /home/xingyu/Projects/PlasticineLab/plb/envs/../../datasets/0914_LiftSpread/target/target_117.npy\n",
      "emd after reset: 0.42393726110458374\n"
     ]
    },
    {
     "name": "stderr",
     "output_type": "stream",
     "text": [
      "199:  19.070505142211914: 100%|██████████| 200/200 [17:33<00:00,  5.27s/it]\n"
     ]
    },
    {
     "name": "stdout",
     "output_type": "stream",
     "text": [
      "MoviePy - Building file data/env_modeling/solve_lift_demo_1.gif with imageio.\n"
     ]
    },
    {
     "name": "stderr",
     "output_type": "stream",
     "text": [
      "                                                             \r"
     ]
    }
   ],
   "source": [
    "import matplotlib.pyplot as plt\n",
    "from imitation.sampler import sample_traj\n",
    "from imitation.utils import to_action_mask\n",
    "import numpy as np\n",
    "from plb.utils.visualization_utils import save_numpy_as_gif\n",
    "r_key1 = {'init_v': 106, 'target_v': 36, 'contact_loss_mask': [0., 0., 0.]}\n",
    "r_key2 = {'init_v': 36, 'target_v': 117, 'contact_loss_mask': [ .]}\n",
    "\n",
    "args.lr = 0.02 # Larger lr (0.1) seems to give pretty good performance (in 30 iterations for 0.1)\n",
    "args.gd_max_iter = 200\n",
    "args.num_env = 1 \n",
    "\n",
    "trajs = []\n",
    "for i, r_key in enumerate([r_key1, r_key2]):\n",
    "    filename = 'data/env_modeling/solve_lift_demo_{}.gif'.format(i)\n",
    "    solver = Solver(args, taichi_env, (0,), return_dist=True)\n",
    "    if i ==0:\n",
    "        traj = sample_traj(env, solver, r_key, action_mask=to_action_mask([0, 1]))\n",
    "    else:\n",
    "        traj = sample_traj(env, solver, r_key, action_mask=to_action_mask([1, 0]))\n",
    "    trajs.append(traj)\n",
    "    save_numpy_as_gif(np.array(traj['obses']), filename)\n",
    "\n",
    "    from IPython.display import Image\n",
    "    Image(filename)"
   ]
  },
  {
   "cell_type": "code",
   "execution_count": 1,
   "metadata": {},
   "outputs": [
    {
     "ename": "NameError",
     "evalue": "name 'solver' is not defined",
     "output_type": "error",
     "traceback": [
      "\u001b[0;31m---------------------------------------------------------------------------\u001b[0m",
      "\u001b[0;31mNameError\u001b[0m                                 Traceback (most recent call last)",
      "\u001b[0;32m<ipython-input-1-fd2f6e3046c0>\u001b[0m in \u001b[0;36m<module>\u001b[0;34m\u001b[0m\n\u001b[0;32m----> 1\u001b[0;31m \u001b[0msolver\u001b[0m\u001b[0;34m.\u001b[0m\u001b[0mplot_loss\u001b[0m\u001b[0;34m(\u001b[0m\u001b[0;34m)\u001b[0m\u001b[0;34m\u001b[0m\u001b[0;34m\u001b[0m\u001b[0m\n\u001b[0m",
      "\u001b[0;31mNameError\u001b[0m: name 'solver' is not defined"
     ]
    }
   ],
   "source": []
  },
  {
   "cell_type": "code",
   "execution_count": 2,
   "metadata": {},
   "outputs": [
    {
     "name": "stdout",
     "output_type": "stream",
     "text": [
      "{'init_pos': (0.65, 0.08, 0.5), 'radius': 0.05, 'color': 100}\n",
      "Env reseting to:  /home/xingyu/Projects/PlasticineLab/plb/envs/../../datasets/0914_LiftSpread/target/target_36.npy\n",
      "emd after reset: 0.30352258682250977\n",
      "======================WARNING: contact loss mask not set================\n"
     ]
    },
    {
     "ename": "NameError",
     "evalue": "name 'trajs' is not defined",
     "output_type": "error",
     "traceback": [
      "\u001b[0;31m---------------------------------------------------------------------------\u001b[0m",
      "\u001b[0;31mNameError\u001b[0m                                 Traceback (most recent call last)",
      "\u001b[0;32m<ipython-input-2-65c236454afe>\u001b[0m in \u001b[0;36m<module>\u001b[0;34m\u001b[0m\n\u001b[1;32m      5\u001b[0m \u001b[0menv\u001b[0m\u001b[0;34m.\u001b[0m\u001b[0mreset\u001b[0m\u001b[0;34m(\u001b[0m\u001b[0minit_v\u001b[0m\u001b[0;34m=\u001b[0m\u001b[0;36m106\u001b[0m\u001b[0;34m,\u001b[0m \u001b[0mtarget_v\u001b[0m\u001b[0;34m=\u001b[0m\u001b[0;36m36\u001b[0m\u001b[0;34m)\u001b[0m\u001b[0;34m\u001b[0m\u001b[0;34m\u001b[0m\u001b[0m\n\u001b[1;32m      6\u001b[0m \u001b[0mreset_states\u001b[0m \u001b[0;34m=\u001b[0m \u001b[0menv\u001b[0m\u001b[0;34m.\u001b[0m\u001b[0mget_primitive_state\u001b[0m\u001b[0;34m(\u001b[0m\u001b[0;34m)\u001b[0m\u001b[0;34m\u001b[0m\u001b[0;34m\u001b[0m\u001b[0m\n\u001b[0;32m----> 7\u001b[0;31m \u001b[0ma1\u001b[0m\u001b[0;34m,\u001b[0m \u001b[0ma2\u001b[0m \u001b[0;34m=\u001b[0m \u001b[0mtrajs\u001b[0m\u001b[0;34m[\u001b[0m\u001b[0;36m0\u001b[0m\u001b[0;34m]\u001b[0m\u001b[0;34m[\u001b[0m\u001b[0;34m'actions'\u001b[0m\u001b[0;34m]\u001b[0m\u001b[0;34m,\u001b[0m \u001b[0mtrajs\u001b[0m\u001b[0;34m[\u001b[0m\u001b[0;36m1\u001b[0m\u001b[0;34m]\u001b[0m\u001b[0;34m[\u001b[0m\u001b[0;34m'actions'\u001b[0m\u001b[0;34m]\u001b[0m\u001b[0;34m\u001b[0m\u001b[0;34m\u001b[0m\u001b[0m\n\u001b[0m\u001b[1;32m      8\u001b[0m \u001b[0mimg_size\u001b[0m\u001b[0;34m=\u001b[0m \u001b[0;36m256\u001b[0m\u001b[0;34m\u001b[0m\u001b[0;34m\u001b[0m\u001b[0m\n\u001b[1;32m      9\u001b[0m \u001b[0;34m\u001b[0m\u001b[0m\n",
      "\u001b[0;31mNameError\u001b[0m: name 'trajs' is not defined"
     ]
    }
   ],
   "source": [
    "# Generate a lift video\n",
    "from plb.utils.visualization_utils import save_numpy_as_gif\n",
    "import numpy as np\n",
    "filename = 'data/env_modeling/lift_combined.gif'\n",
    "env.reset(init_v=106, target_v=36)\n",
    "reset_states = env.get_primitive_state()\n",
    "a1, a2 = trajs[0]['actions'], trajs[1]['actions']\n",
    "img_size= 256\n",
    "\n",
    "frames = []\n",
    "for i in range(len(a1)):\n",
    "    env.step(a1[i])\n",
    "    frames.append(env.taichi_env.render(mode='rgb', img_size=img_size)[:,:,:3])\n",
    "actions, obses, _ = env.primitive_reset_to(1, reset_states, img_size=img_size)\n",
    "for frame in obses:\n",
    "    frames.append(frame[:, :, :3])\n",
    "for i in range(len(a2)):\n",
    "    action = np.array([0]* 6 + [-0.7, 0.8, 0., 0., 0., 0.7])\n",
    "    env.step(a2[i])\n",
    "    frames.append(env.taichi_env.render(mode='rgb', img_size=img_size)[:,:,:3])\n",
    "# actions, obses, _ = env.primitive_reset_to(0, reset_states, img_size=img_size)\n",
    "# for frame in obses:\n",
    "#     frames.append(frame[:, :, :3])\n",
    "save_numpy_as_gif(np.array(frames), filename)\n",
    "demo_actions = np.array(actions)\n",
    "state = env.get_state()\n",
    "from IPython.display import Image\n",
    "Image(filename)"
   ]
  },
  {
   "cell_type": "code",
   "execution_count": 4,
   "metadata": {
    "tags": []
   },
   "outputs": [
    {
     "name": "stdout",
     "output_type": "stream",
     "text": [
      "Loading dataset in data/local/0915_LiftSpread_single/0915_LiftSpread_single_2021_09_15_21_14_53_0001/dataset.gz\n",
      "Loading dataset from data/local/0915_LiftSpread_single/0915_LiftSpread_single_2021_09_15_21_14_53_0001/dataset.gz\n",
      "(50, 12)\n"
     ]
    }
   ],
   "source": [
    "# Debug actions from replay buffer\n",
    "dataset_path = 'data/local/0915_LiftSpread_single/0915_LiftSpread_single_2021_09_15_21_14_53_0001/dataset.gz'\n",
    "from imitation.imitation_buffer import ImitationReplayBuffer\n",
    "buffer = ImitationReplayBuffer(args)\n",
    "buffer.load(dataset_path)"
   ]
  },
  {
   "cell_type": "code",
   "execution_count": 1,
   "metadata": {},
   "outputs": [
    {
     "ename": "NameError",
     "evalue": "name 'env' is not defined",
     "output_type": "error",
     "traceback": [
      "\u001b[0;31m---------------------------------------------------------------------------\u001b[0m",
      "\u001b[0;31mNameError\u001b[0m                                 Traceback (most recent call last)",
      "\u001b[0;32m<ipython-input-1-4898bbeba45b>\u001b[0m in \u001b[0;36m<module>\u001b[0;34m\u001b[0m\n\u001b[1;32m      3\u001b[0m \u001b[0;32mimport\u001b[0m \u001b[0mnumpy\u001b[0m \u001b[0;32mas\u001b[0m \u001b[0mnp\u001b[0m\u001b[0;34m\u001b[0m\u001b[0;34m\u001b[0m\u001b[0m\n\u001b[1;32m      4\u001b[0m \u001b[0mfilename\u001b[0m \u001b[0;34m=\u001b[0m \u001b[0;34m'debug.gif'\u001b[0m\u001b[0;34m\u001b[0m\u001b[0;34m\u001b[0m\u001b[0m\n\u001b[0;32m----> 5\u001b[0;31m \u001b[0menv\u001b[0m\u001b[0;34m.\u001b[0m\u001b[0mreset\u001b[0m\u001b[0;34m(\u001b[0m\u001b[0minit_v\u001b[0m\u001b[0;34m=\u001b[0m\u001b[0;36m106\u001b[0m\u001b[0;34m,\u001b[0m \u001b[0mtarget_v\u001b[0m\u001b[0;34m=\u001b[0m\u001b[0;36m36\u001b[0m\u001b[0;34m)\u001b[0m\u001b[0;34m\u001b[0m\u001b[0;34m\u001b[0m\u001b[0m\n\u001b[0m\u001b[1;32m      6\u001b[0m \u001b[0mreset_states\u001b[0m \u001b[0;34m=\u001b[0m \u001b[0menv\u001b[0m\u001b[0;34m.\u001b[0m\u001b[0mget_primitive_state\u001b[0m\u001b[0;34m(\u001b[0m\u001b[0;34m)\u001b[0m\u001b[0;34m\u001b[0m\u001b[0;34m\u001b[0m\u001b[0m\n\u001b[1;32m      7\u001b[0m \u001b[0mimg_size\u001b[0m\u001b[0;34m=\u001b[0m \u001b[0;36m256\u001b[0m\u001b[0;34m\u001b[0m\u001b[0;34m\u001b[0m\u001b[0m\n",
      "\u001b[0;31mNameError\u001b[0m: name 'env' is not defined"
     ]
    }
   ],
   "source": [
    "# Generate a lift video\n",
    "from plb.utils.visualization_utils import save_numpy_as_gif\n",
    "import numpy as np\n",
    "filename = 'debug.gif'\n",
    "env.reset(init_v=106, target_v=36)\n",
    "reset_states = env.get_primitive_state()\n",
    "img_size= 256\n",
    "frames = []\n",
    "actions = buffer.buffer['actions'][:50]\n",
    "infos = []\n",
    "for s, action in enumerate(actions):\n",
    "    obs, r, _, info = env.step(action)\n",
    "    infos.append(info)\n",
    "    print('step {}, reward: {}, emd: {}, contact_loss: {}'.format(s, r, info['info_emd'], info['info_contact_loss']))\n",
    "    frames.append(env.taichi_env.render(mode='rgb', img_size=img_size)[:,:,:3])\n",
    "emds = np.array([info['info_emd'] for info in infos])\n",
    "print('emds:', emds)\n",
    "save_numpy_as_gif(np.array(frames), filename)\n",
    "demo_actions = np.array(actions)\n",
    "state = env.get_state()\n",
    "from IPython.display import Image\n",
    "Image(filename)"
   ]
  }
 ],
 "metadata": {
  "kernelspec": {
   "display_name": "Python 3",
   "language": "python",
   "name": "python3"
  },
  "language_info": {
   "codemirror_mode": {
    "name": "ipython",
    "version": 3
   },
   "file_extension": ".py",
   "mimetype": "text/x-python",
   "name": "python",
   "nbconvert_exporter": "python",
   "pygments_lexer": "ipython3",
   "version": "3.8.5"
  }
 },
 "nbformat": 4,
 "nbformat_minor": 4
}
