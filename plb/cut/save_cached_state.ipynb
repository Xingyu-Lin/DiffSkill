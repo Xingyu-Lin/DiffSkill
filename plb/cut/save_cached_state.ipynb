{
 "cells": [
  {
   "cell_type": "code",
   "execution_count": 1,
   "metadata": {
    "collapsed": true,
    "jupyter": {
     "outputs_hidden": true
    }
   },
   "outputs": [],
   "source": [
    "import os\n",
    "\n",
    "import cv2\n",
    "%load_ext autoreload\n",
    "%autoreload 2"
   ]
  },
  {
   "cell_type": "code",
   "execution_count": 2,
   "metadata": {
    "collapsed": false,
    "jupyter": {
     "outputs_hidden": false
    },
    "pycharm": {
     "name": "#%%\n"
    }
   },
   "outputs": [
    {
     "name": "stderr",
     "output_type": "stream",
     "text": [
      "100%|██████████████████████████████████████████████████████████████████████████████████████████████████████████████████████████████████| 210/210 [00:00<00:00, 716683.35it/s]\n",
      "100%|██████████████████████████████████████████████████████████████████████████████████████████████████████████████████████████████████| 210/210 [00:00<00:00, 680157.41it/s]\n",
      "100%|██████████████████████████████████████████████████████████████████████████████████████████████████████████████████████████████████| 210/210 [00:00<00:00, 821645.37it/s]\n",
      "100%|██████████████████████████████████████████████████████████████████████████████████████████████████████████████████████████████████| 210/210 [00:00<00:00, 831731.67it/s]\n"
     ]
    }
   ],
   "source": [
    "import tqdm\n",
    "import glob\n",
    "\n",
    "trajs = []\n",
    "\n",
    "for i in range(4):\n",
    "    out = sorted(glob.glob(f'sols/sol{i}/traj*_*.pkl'))\n",
    "    for idx, j in enumerate(tqdm.tqdm(out, total=len(out))):\n",
    "        sol_path = j\n",
    "        goal_path = ('_'.join(j.split('_')[:-1])+'.pkl').replace('sols/sol', 'data/')\n",
    "        trajs.append([sol_path, goal_path])"
   ]
  },
  {
   "cell_type": "code",
   "execution_count": 3,
   "metadata": {
    "collapsed": false,
    "jupyter": {
     "outputs_hidden": false
    },
    "pycharm": {
     "name": "#%%\n"
    }
   },
   "outputs": [
    {
     "name": "stderr",
     "output_type": "stream",
     "text": [
      "100%|█████████████████████████████████████████████████████████████████████████████████████████████████████████████████████████████████| 350/350 [00:00<00:00, 1134471.72it/s]\n",
      "100%|█████████████████████████████████████████████████████████████████████████████████████████████████████████████████████████████████| 350/350 [00:00<00:00, 1005483.84it/s]\n",
      "100%|█████████████████████████████████████████████████████████████████████████████████████████████████████████████████████████████████| 350/350 [00:00<00:00, 1159562.72it/s]\n",
      "100%|█████████████████████████████████████████████████████████████████████████████████████████████████████████████████████████████████| 350/350 [00:00<00:00, 1031627.83it/s]\n"
     ]
    }
   ],
   "source": [
    "for i in range(4):\n",
    "    out = sorted(glob.glob(f'obey/obey{i}/traj*_*.pkl'))\n",
    "    for idx, j in enumerate(tqdm.tqdm(out, total=len(out))):\n",
    "        sol_path = j\n",
    "        goal_path = ('_'.join(j.split('_')[:-1])+'.pkl').replace('obey/obey', 'data/')\n",
    "        trajs.append([sol_path, goal_path])"
   ]
  },
  {
   "cell_type": "code",
   "execution_count": 4,
   "metadata": {
    "collapsed": false,
    "jupyter": {
     "outputs_hidden": false
    },
    "pycharm": {
     "name": "#%%\n"
    }
   },
   "outputs": [
    {
     "name": "stderr",
     "output_type": "stream",
     "text": [
      "100%|██████████████████████████████████████████████████████████████████████████████████████████████████████████████████████████████████| 140/140 [00:00<00:00, 701556.22it/s]\n",
      "100%|██████████████████████████████████████████████████████████████████████████████████████████████████████████████████████████████████| 140/140 [00:00<00:00, 913223.27it/s]\n",
      "100%|██████████████████████████████████████████████████████████████████████████████████████████████████████████████████████████████████| 140/140 [00:00<00:00, 652447.29it/s]\n",
      "100%|██████████████████████████████████████████████████████████████████████████████████████████████████████████████████████████████████| 140/140 [00:00<00:00, 948630.95it/s]\n"
     ]
    }
   ],
   "source": [
    "for i in range(4):\n",
    "    out = sorted(glob.glob(f'sol_remain{i}/traj*_*.pkl'))\n",
    "    for idx, j in enumerate(tqdm.tqdm(out, total=len(out))):\n",
    "        sol_path = j\n",
    "        goal_path = ('_'.join(j.split('_')[:-1])+'.pkl').replace('sol_remain', 'data/')\n",
    "        trajs.append([sol_path, goal_path])"
   ]
  },
  {
   "cell_type": "code",
   "execution_count": 5,
   "metadata": {
    "collapsed": false,
    "jupyter": {
     "outputs_hidden": false
    },
    "pycharm": {
     "name": "#%%\n"
    }
   },
   "outputs": [
    {
     "data": {
      "text/plain": [
       "\"\\nimport os\\nimport lzma\\nos.makedirs('cached_state_path/init', exist_ok=True)\\nos.makedirs('cached_state_path/target', exist_ok=True)\\nimport torch\\nimport pickle\\nimport numpy as np\\nprint(len(trajs))\\nfor idx, (sol, goal) in enumerate(tqdm.tqdm(trajs, total=len(trajs))):\\n    a = torch.load(sol)\\n    b = torch.load(goal)\\n\\n    initial_state = a['initial_state']\\n    goal_state = b[1]\\n\\n    #out = execute(env, a['initial_state'], a['best_action'], filename='array', img_size=64)\\n    #print(initial_state.keys(), goal_state.keys())\\n    init = initial_state['state'][0]\\n    with lzma.open(f'cached_state_path/init/state_{idx}.xz', 'wb') as f:\\n        pickle.dump(initial_state, f)\\n\\n    goal = goal_state['state'][0]\\n    np.save(f'cached_state_path/target/target_{idx}.npy', goal)\\n    \""
      ]
     },
     "execution_count": 5,
     "metadata": {},
     "output_type": "execute_result"
    }
   ],
   "source": [
    "\"\"\"\n",
    "import os\n",
    "import lzma\n",
    "os.makedirs('cached_state_path/init', exist_ok=True)\n",
    "os.makedirs('cached_state_path/target', exist_ok=True)\n",
    "import torch\n",
    "import pickle\n",
    "import numpy as np\n",
    "print(len(trajs))\n",
    "for idx, (sol, goal) in enumerate(tqdm.tqdm(trajs, total=len(trajs))):\n",
    "    a = torch.load(sol)\n",
    "    b = torch.load(goal)\n",
    "\n",
    "    initial_state = a['initial_state']\n",
    "    goal_state = b[1]\n",
    "\n",
    "    #out = execute(env, a['initial_state'], a['best_action'], filename='array', img_size=64)\n",
    "    #print(initial_state.keys(), goal_state.keys())\n",
    "    init = initial_state['state'][0]\n",
    "    with lzma.open(f'cached_state_path/init/state_{idx}.xz', 'wb') as f:\n",
    "        pickle.dump(initial_state, f)\n",
    "\n",
    "    goal = goal_state['state'][0]\n",
    "    np.save(f'cached_state_path/target/target_{idx}.npy', goal)\n",
    "    \"\"\""
   ]
  },
  {
   "cell_type": "code",
   "execution_count": 6,
   "metadata": {
    "collapsed": false,
    "jupyter": {
     "outputs_hidden": false
    },
    "pycharm": {
     "name": "#%%\n"
    }
   },
   "outputs": [
    {
     "name": "stdout",
     "output_type": "stream",
     "text": [
      "[Taichi] mode=release\n",
      "[Taichi] preparing sandbox at /tmp/taichi-1pugjf11\n",
      "[Taichi] version 0.7.26, llvm 10.0.0, commit e37bdb5e, linux, python 3.7.11\n",
      "[I 09/30/21 14:32:27.329 2938380] [shell.py:_shell_pop_print@35] Graphical python shell detected, using wrapped sys.stdout\n",
      "[Taichi] Starting on arch=cuda\n",
      "[Tina] version 0.1.1\n",
      "[Tina] Taichi properties hacked\n",
      "pimirives: num primitive: 2\n",
      "Building primitive\n",
      "action:\n",
      "  dim: 3\n",
      "  scale: (0.015, 0.015, 0.015)\n",
      "collision_group: [0.0, 0.0, 0.0]\n",
      "color: (0.7568, 0.6039, 0.4196)\n",
      "friction: 0.0\n",
      "h: (0.15, 0.15)\n",
      "init_pos: (0.5, 0.3, 0.5)\n",
      "init_rot: (1.0, 0.0, 0.0, 0.0)\n",
      "lower_bound: (0.0, 0.0, 0.0)\n",
      "prot: (1.0, 0.0, 0.0, 0.58)\n",
      "shape: Knife\n",
      "size: (0.025, 0.2, 0.06)\n",
      "upper_bound: (1.0, 1.0, 1.0)\n",
      "variations: None\n",
      "Building primitive\n",
      "action:\n",
      "  dim: 0\n",
      "  scale: ()\n",
      "collision_group: [0.0, 0.0, 0.0]\n",
      "color: (0.3, 0.3, 0.3)\n",
      "friction: 0.9\n",
      "h: (0.15, 0.15)\n",
      "init_pos: (0.3, 0.3, 0.3)\n",
      "init_rot: (1.0, 0.0, 0.0, 0.0)\n",
      "lower_bound: (0.0, 0.0, 0.0)\n",
      "prot: (1.0, 0.0, 0.0, 0.58)\n",
      "shape: \n",
      "upper_bound: (1.0, 1.0, 1.0)\n",
      "variations: None\n",
      "Building primitive\n",
      "action:\n",
      "  dim: 0\n",
      "  scale: ()\n",
      "collision_group: [0.0, 0.0, 0.0]\n",
      "color: (0.3, 0.3, 0.3)\n",
      "friction: 0.9\n",
      "init_pos: (0.3, 0.3, 0.3)\n",
      "init_rot: (1.0, 0.0, 0.0, 0.0)\n",
      "lower_bound: (0.0, 0.0, 0.0)\n",
      "shape: \n",
      "size: (0.025, 0.2, 0.06)\n",
      "upper_bound: (1.0, 1.0, 1.0)\n",
      "variations: None\n",
      "Building primitive\n",
      "action:\n",
      "  dim: 7\n",
      "  scale: (0.015, 0.015, 0.015, 0.0, 0.0, 0.0, 0.015)\n",
      "collision_group: [0.0, 0.0, 0.0]\n",
      "color: (0.7568, 0.6039, 0.4196)\n",
      "friction: 10.0\n",
      "init_gap: 0.18\n",
      "init_pos: (0.5, 0.1, 0.5)\n",
      "init_rot: (0.707, 0.0, 0.707, 0.0)\n",
      "lower_bound: (0.0, 0.0, 0.0)\n",
      "maximal_gap: 0.2\n",
      "minimal_gap: 0.08\n",
      "round: 0\n",
      "shape: Gripper\n",
      "size: (0.015, 0.1, 0.06)\n",
      "upper_bound: (1.0, 1.0, 1.0)\n",
      "variations: None\n",
      "Initialize Tina Renderer\n",
      "bake_size: 6  \n",
      "cam_center: (0.52, 0.3, 0.6)  \n",
      "cam_phi: -1.3  \n",
      "cam_radius: 0.53  \n",
      "cam_theta: 0.0  \n",
      "camera_pos: (0.5, 1.2, 4.0)  \n",
      "camera_rot: (0.2, 0)  \n",
      "dx: 0.006666666666666667  \n",
      "image_res: (512, 512)  \n",
      "light_direction: (0.0, 1.0, 1.0)  \n",
      "max_num_particles: 1000000  \n",
      "max_ray_depth: 2  \n",
      "mesh: False  \n",
      "name: tina  \n",
      "sdf_threshold: 0.20720000000000002  \n",
      "spp: 50  \n",
      "target_res: (64, 64, 64)  \n",
      "tina_img_res: 1024  \n",
      "use_directional_light: True  \n",
      "use_roulette: False  \n",
      "voxel_res: (168, 168, 168)\n",
      "[Tina] Hint: MMB to orbit, Shift+MMB to pan, wheel to zoom\n",
      "[W 09/30/21 14:33:01.865 2938380] [type_check.cpp:visit@100] [$69819] Local store may lose precision (target = i32, value = f32) at\n",
      "[W 09/30/21 14:33:01.865 2938380] [type_check.cpp:visit@101] \n",
      "  File \"/home/hza/PlasticineLab/plb/engine/mpm_simulator.py\", line 218, in grid_op\n",
      "    v_out = self.primitives.primitives[i].collide(f, I * self.dx, v_out, self.dt, self.grid_m[I])\n",
      "  File \"/home/hza/anaconda3/envs/xingyu/lib/python3.7/site-packages/taichi/lang/kernel_impl.py\", line 50, in decorated\n",
      "    return fun.__call__(*args)\n",
      "  File \"/home/hza/anaconda3/envs/xingyu/lib/python3.7/site-packages/taichi/lang/kernel_impl.py\", line 122, in __call__\n",
      "    ret = self.compiled(*args)\n",
      "  File \"/home/hza/PlasticineLab/plb/engine/primitive/primitives.py\", line 355, in collide\n",
      "    v_out1 = self.collide2(f, grid_pos, v_out, dt, mass, -1)\n",
      "  File \"/home/hza/anaconda3/envs/xingyu/lib/python3.7/site-packages/taichi/lang/kernel_impl.py\", line 50, in decorated\n",
      "    return fun.__call__(*args)\n",
      "  File \"/home/hza/anaconda3/envs/xingyu/lib/python3.7/site-packages/taichi/lang/kernel_impl.py\", line 122, in __call__\n",
      "    ret = self.compiled(*args)\n",
      "  File \"/home/hza/PlasticineLab/plb/engine/primitive/primitives.py\", line 378, in collide2\n",
      "    flag = ti.cast(normal_component < 0 and ti.sqrt(grid_v_t.dot(grid_v_t)) > 1e-30, self.dtype)\n",
      "  File \"/home/hza/anaconda3/envs/xingyu/lib/python3.7/site-packages/taichi/lang/util.py\", line 163, in wrapped\n",
      "    return func(*args, **kwargs)\n",
      "  File \"/home/hza/anaconda3/envs/xingyu/lib/python3.7/site-packages/taichi/lang/impl.py\", line 202, in maybe_transform_ti_func_call_to_stmt\n",
      "    return ti_func(*args, **kwargs)\n",
      "  File \"/home/hza/anaconda3/envs/xingyu/lib/python3.7/site-packages/taichi/lang/common_ops.py\", line 227, in assign\n",
      "    return ti.assign(self, other)\n",
      "  File \"/home/hza/anaconda3/envs/xingyu/lib/python3.7/site-packages/taichi/lang/ops.py\", line 135, in wrapped\n",
      "    return imp_foo(a, b)\n",
      "\n",
      "[W 09/30/21 14:33:01.865 2938380] [type_check.cpp:visit@100] [$72886] Local store may lose precision (target = i32, value = f32) at\n",
      "[W 09/30/21 14:33:01.865 2938380] [type_check.cpp:visit@101] \n",
      "  File \"/home/hza/PlasticineLab/plb/engine/mpm_simulator.py\", line 218, in grid_op\n",
      "    v_out = self.primitives.primitives[i].collide(f, I * self.dx, v_out, self.dt, self.grid_m[I])\n",
      "  File \"/home/hza/anaconda3/envs/xingyu/lib/python3.7/site-packages/taichi/lang/kernel_impl.py\", line 50, in decorated\n",
      "    return fun.__call__(*args)\n",
      "  File \"/home/hza/anaconda3/envs/xingyu/lib/python3.7/site-packages/taichi/lang/kernel_impl.py\", line 122, in __call__\n",
      "    ret = self.compiled(*args)\n",
      "  File \"/home/hza/PlasticineLab/plb/engine/primitive/primitives.py\", line 356, in collide\n",
      "    v_out2 = self.collide2(f, grid_pos, v_out1, dt, mass, 1)\n",
      "  File \"/home/hza/anaconda3/envs/xingyu/lib/python3.7/site-packages/taichi/lang/kernel_impl.py\", line 50, in decorated\n",
      "    return fun.__call__(*args)\n",
      "  File \"/home/hza/anaconda3/envs/xingyu/lib/python3.7/site-packages/taichi/lang/kernel_impl.py\", line 122, in __call__\n",
      "    ret = self.compiled(*args)\n",
      "  File \"/home/hza/PlasticineLab/plb/engine/primitive/primitives.py\", line 378, in collide2\n",
      "    flag = ti.cast(normal_component < 0 and ti.sqrt(grid_v_t.dot(grid_v_t)) > 1e-30, self.dtype)\n",
      "  File \"/home/hza/anaconda3/envs/xingyu/lib/python3.7/site-packages/taichi/lang/util.py\", line 163, in wrapped\n",
      "    return func(*args, **kwargs)\n",
      "  File \"/home/hza/anaconda3/envs/xingyu/lib/python3.7/site-packages/taichi/lang/impl.py\", line 202, in maybe_transform_ti_func_call_to_stmt\n",
      "    return ti_func(*args, **kwargs)\n",
      "  File \"/home/hza/anaconda3/envs/xingyu/lib/python3.7/site-packages/taichi/lang/common_ops.py\", line 227, in assign\n",
      "    return ti.assign(self, other)\n",
      "  File \"/home/hza/anaconda3/envs/xingyu/lib/python3.7/site-packages/taichi/lang/ops.py\", line 135, in wrapped\n",
      "    return imp_foo(a, b)\n",
      "\n"
     ]
    }
   ],
   "source": [
    "from plb.cut.sample_utils import init_env, execute\n",
    "env, state = init_env()"
   ]
  },
  {
   "cell_type": "code",
   "execution_count": 7,
   "metadata": {
    "collapsed": false,
    "jupyter": {
     "outputs_hidden": false
    },
    "pycharm": {
     "name": "#%%\n"
    }
   },
   "outputs": [],
   "source": [
    "from imitation.env_spec import set_render_mode\n",
    "class ENV:\n",
    "    def __init__(self):\n",
    "        self.taichi_env = env\n",
    "set_render_mode(ENV(), 'CutRearrange-v1')\n"
   ]
  },
  {
   "cell_type": "code",
   "execution_count": 8,
   "metadata": {
    "collapsed": false,
    "jupyter": {
     "outputs_hidden": false
    },
    "pycharm": {
     "name": "#%%\n"
    }
   },
   "outputs": [
    {
     "ename": "NameError",
     "evalue": "name 'plt' is not defined",
     "output_type": "error",
     "traceback": [
      "\u001B[0;31m---------------------------------------------------------------------------\u001B[0m",
      "\u001B[0;31mNameError\u001B[0m                                 Traceback (most recent call last)",
      "\u001B[0;32m/tmp/ipykernel_2938380/2048121797.py\u001B[0m in \u001B[0;36m<module>\u001B[0;34m\u001B[0m\n\u001B[1;32m      1\u001B[0m \u001B[0menv\u001B[0m\u001B[0;34m.\u001B[0m\u001B[0mrenderer\u001B[0m\u001B[0;34m.\u001B[0m\u001B[0mupdate_camera\u001B[0m\u001B[0;34m(\u001B[0m\u001B[0;34m(\u001B[0m\u001B[0;36m0.52\u001B[0m\u001B[0;34m,\u001B[0m \u001B[0;36m0.3\u001B[0m\u001B[0;34m,\u001B[0m \u001B[0;36m0.6\u001B[0m\u001B[0;34m)\u001B[0m\u001B[0;34m,\u001B[0m \u001B[0;36m0.\u001B[0m\u001B[0;34m,\u001B[0m \u001B[0;34m-\u001B[0m\u001B[0;36m1.3\u001B[0m\u001B[0;34m,\u001B[0m \u001B[0;36m0.53\u001B[0m\u001B[0;34m)\u001B[0m\u001B[0;34m\u001B[0m\u001B[0;34m\u001B[0m\u001B[0m\n\u001B[1;32m      2\u001B[0m \u001B[0mimg\u001B[0m \u001B[0;34m=\u001B[0m \u001B[0menv\u001B[0m\u001B[0;34m.\u001B[0m\u001B[0mrender\u001B[0m\u001B[0;34m(\u001B[0m\u001B[0;34m'rgb'\u001B[0m\u001B[0;34m,\u001B[0m \u001B[0mimg_size\u001B[0m\u001B[0;34m=\u001B[0m\u001B[0;36m512\u001B[0m\u001B[0;34m)\u001B[0m\u001B[0;34m\u001B[0m\u001B[0;34m\u001B[0m\u001B[0m\n\u001B[0;32m----> 3\u001B[0;31m \u001B[0mplt\u001B[0m\u001B[0;34m.\u001B[0m\u001B[0mimshow\u001B[0m\u001B[0;34m(\u001B[0m\u001B[0mimg\u001B[0m\u001B[0;34m[\u001B[0m\u001B[0;34m:\u001B[0m\u001B[0;34m,\u001B[0m \u001B[0;34m:\u001B[0m\u001B[0;34m,\u001B[0m\u001B[0;34m:\u001B[0m\u001B[0;36m3\u001B[0m\u001B[0;34m]\u001B[0m\u001B[0;34m)\u001B[0m\u001B[0;34m\u001B[0m\u001B[0;34m\u001B[0m\u001B[0m\n\u001B[0m\u001B[1;32m      4\u001B[0m \u001B[0mplt\u001B[0m\u001B[0;34m.\u001B[0m\u001B[0mshow\u001B[0m\u001B[0;34m(\u001B[0m\u001B[0;34m)\u001B[0m\u001B[0;34m\u001B[0m\u001B[0;34m\u001B[0m\u001B[0m\n",
      "\u001B[0;31mNameError\u001B[0m: name 'plt' is not defined"
     ]
    }
   ],
   "source": [
    "env.renderer.update_camera((0.52, 0.3, 0.6), 0., -1.3, 0.53)\n",
    "img = env.render('rgb', img_size=512)\n",
    "plt.imshow(img[:, :,:3])\n",
    "plt.show()"
   ]
  },
  {
   "cell_type": "code",
   "execution_count": null,
   "metadata": {
    "collapsed": false,
    "jupyter": {
     "outputs_hidden": false
    },
    "pycharm": {
     "name": "#%%\n"
    }
   },
   "outputs": [],
   "source": [
    "import torch\n",
    "import numpy as np\n",
    "target_imgs = []\n",
    "for idx, (sol, goal) in enumerate(tqdm.tqdm(trajs, total=len(trajs))):\n",
    "    goal_state = torch.load(goal)\n",
    "    env.set_state(**goal_state[1])\n",
    "    img = env.render('rgb', spp=1, img_size=64)\n",
    "\n",
    "    target_imgs.append(img)\n",
    "    cv2.imwrite(f'cached_state_path/target/target_{idx}.png', cv2.cvtColor(np.uint8(img[:,:,:3] * 255), cv2.COLOR_RGB2BGR))\n",
    "\n",
    "np.save('cached_state_path/target/target_imgs.npy', target_imgs)\n"
   ]
  }
 ],
 "metadata": {
  "kernelspec": {
   "display_name": "Python 3",
   "language": "python",
   "name": "python3"
  },
  "language_info": {
   "codemirror_mode": {
    "name": "ipython",
    "version": 3
   },
   "file_extension": ".py",
   "mimetype": "text/x-python",
   "name": "python",
   "nbconvert_exporter": "python",
   "pygments_lexer": "ipython3",
   "version": "3.8.5"
  }
 },
 "nbformat": 4,
 "nbformat_minor": 4
}