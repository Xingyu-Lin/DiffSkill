{
 "cells": [
  {
   "cell_type": "code",
   "execution_count": 1,
   "metadata": {
    "pycharm": {
     "name": "#%%\n"
    },
    "tags": []
   },
   "outputs": [],
   "source": [
    "%load_ext autoreload\n",
    "%autoreload 2"
   ]
  },
  {
   "cell_type": "code",
   "execution_count": 2,
   "metadata": {
    "collapsed": false,
    "jupyter": {
     "outputs_hidden": false
    },
    "pycharm": {
     "name": "#%%\n"
    }
   },
   "outputs": [
    {
     "name": "stdout",
     "output_type": "stream",
     "text": [
      "[Taichi] mode=release\n",
      "[Taichi] preparing sandbox at /tmp/taichi-s72hxu25\n",
      "[Taichi] version 0.7.26, llvm 10.0.0, commit e37bdb5e, linux, python 3.8.5\n",
      "Setting pykeops dir to  /home/xingyu/.pykeops_cache/NVIDIA_GeForce_RTX_2080_Ti\n",
      "[Taichi] Starting on arch=cuda\n",
      "[Tina] version 0.1.1\n",
      "[Tina] Taichi properties hacked\n",
      "pimirives: num primitive: 2\n",
      "Building primitive\n",
      "action:\n",
      "  dim: 3\n",
      "  scale: (0.015, 0.015, 0.0)\n",
      "collision_group: [0.0, 0.0, 0.0]\n",
      "color: (0.7568, 0.6039, 0.4196)\n",
      "friction: 0.0\n",
      "h: (0.15, 0.15)\n",
      "init_pos: (0.5, 0.3, 0.5)\n",
      "init_rot: (1.0, 0.0, 0.0, 0.0)\n",
      "lower_bound: (0.0, 0.0, 0.0)\n",
      "prot: (1.0, 0.0, 0.0, 0.58)\n",
      "shape: Knife\n",
      "size: (0.025, 0.2, 0.06)\n",
      "upper_bound: (1.0, 1.0, 1.0)\n",
      "variations: None\n",
      "Building primitive\n",
      "action:\n",
      "  dim: 0\n",
      "  scale: ()\n",
      "collision_group: [0.0, 0.0, 0.0]\n",
      "color: (0.3, 0.3, 0.3)\n",
      "friction: 0.9\n",
      "h: (0.15, 0.15)\n",
      "init_pos: (0.3, 0.3, 0.3)\n",
      "init_rot: (1.0, 0.0, 0.0, 0.0)\n",
      "lower_bound: (0.0, 0.0, 0.0)\n",
      "prot: (1.0, 0.0, 0.0, 0.58)\n",
      "shape: \n",
      "upper_bound: (1.0, 1.0, 1.0)\n",
      "variations: None\n",
      "Building primitive\n",
      "action:\n",
      "  dim: 0\n",
      "  scale: ()\n",
      "collision_group: [0.0, 0.0, 0.0]\n",
      "color: (0.3, 0.3, 0.3)\n",
      "friction: 0.9\n",
      "init_pos: (0.3, 0.3, 0.3)\n",
      "init_rot: (1.0, 0.0, 0.0, 0.0)\n",
      "lower_bound: (0.0, 0.0, 0.0)\n",
      "shape: \n",
      "size: (0.025, 0.2, 0.06)\n",
      "upper_bound: (1.0, 1.0, 1.0)\n",
      "variations: None\n",
      "Building primitive\n",
      "action:\n",
      "  dim: 7\n",
      "  scale: (0.015, 0.015, 0.015, 0.0, 0.0, 0.0, 0.015)\n",
      "collision_group: [0.0, 0.0, 0.0]\n",
      "color: (0.7568, 0.6039, 0.4196)\n",
      "friction: 10.0\n",
      "init_gap: 0.18\n",
      "init_pos: (0.5, 0.1, 0.5)\n",
      "init_rot: (0.707, 0.0, 0.707, 0.0)\n",
      "lower_bound: (0.0, 0.0, 0.0)\n",
      "maximal_gap: 0.2\n",
      "minimal_gap: 0.08\n",
      "round: 0\n",
      "shape: Gripper\n",
      "size: (0.015, 0.1, 0.06)\n",
      "upper_bound: (1.0, 1.0, 1.0)\n",
      "variations: None\n",
      "Initialize Tina Renderer\n",
      "bake_size: 6  \n",
      "cam_center: (0.52, 0.3, 0.6)  \n",
      "cam_phi: -1.3  \n",
      "cam_radius: 0.53  \n",
      "cam_theta: 0.0  \n",
      "camera_pos: (0.5, 1.2, 4.0)  \n",
      "camera_rot: (0.2, 0)  \n",
      "dx: 0.006666666666666667  \n",
      "image_res: (512, 512)  \n",
      "light_direction: (0.0, 1.0, 1.0)  \n",
      "max_num_particles: 1000000  \n",
      "max_ray_depth: 2  \n",
      "mesh: False  \n",
      "name: tina  \n",
      "sdf_threshold: 0.20720000000000002  \n",
      "spp: 50  \n",
      "target_res: (64, 64, 64)  \n",
      "tina_img_res: 1024  \n",
      "use_directional_light: True  \n",
      "use_roulette: False  \n",
      "voxel_res: (168, 168, 168)\n",
      "[Tina] Hint: MMB to orbit, Shift+MMB to pan, wheel to zoom\n"
     ]
    },
    {
     "ename": "FileNotFoundError",
     "evalue": "[Errno 2] No such file or directory: 'datasets/CutRearrange/target/target_imgs.npy'",
     "output_type": "error",
     "traceback": [
      "\u001B[0;31m---------------------------------------------------------------------------\u001B[0m",
      "\u001B[0;31mFileNotFoundError\u001B[0m                         Traceback (most recent call last)",
      "\u001B[0;32m<ipython-input-2-b01992aae8f1>\u001B[0m in \u001B[0;36m<module>\u001B[0;34m\u001B[0m\n\u001B[1;32m      2\u001B[0m \u001B[0;32mfrom\u001B[0m \u001B[0mdiffskill\u001B[0m\u001B[0;34m.\u001B[0m\u001B[0menv_spec\u001B[0m \u001B[0;32mimport\u001B[0m \u001B[0mset_render_mode\u001B[0m\u001B[0;34m\u001B[0m\u001B[0;34m\u001B[0m\u001B[0m\n\u001B[1;32m      3\u001B[0m \u001B[0;34m\u001B[0m\u001B[0m\n\u001B[0;32m----> 4\u001B[0;31m \u001B[0menv\u001B[0m \u001B[0;34m=\u001B[0m \u001B[0mmake\u001B[0m\u001B[0;34m(\u001B[0m\u001B[0;34m'CutRearrange-v1'\u001B[0m\u001B[0;34m,\u001B[0m \u001B[0mnn\u001B[0m\u001B[0;34m=\u001B[0m\u001B[0;32mFalse\u001B[0m\u001B[0;34m)\u001B[0m\u001B[0;34m\u001B[0m\u001B[0;34m\u001B[0m\u001B[0m\n\u001B[0m\u001B[1;32m      5\u001B[0m \u001B[0mset_render_mode\u001B[0m\u001B[0;34m(\u001B[0m\u001B[0menv\u001B[0m\u001B[0;34m,\u001B[0m \u001B[0;34m'CutRearrange-v1'\u001B[0m\u001B[0;34m)\u001B[0m\u001B[0;34m\u001B[0m\u001B[0;34m\u001B[0m\u001B[0m\n",
      "\u001B[0;32m~/Projects/PlasticineLab/plb/envs/__init__.py\u001B[0m in \u001B[0;36mmake\u001B[0;34m(env_name, nn, return_dist, **kwargs)\u001B[0m\n\u001B[1;32m     43\u001B[0m \u001B[0;34m\u001B[0m\u001B[0m\n\u001B[1;32m     44\u001B[0m \u001B[0;32mdef\u001B[0m \u001B[0mmake\u001B[0m\u001B[0;34m(\u001B[0m\u001B[0menv_name\u001B[0m\u001B[0;34m,\u001B[0m \u001B[0mnn\u001B[0m\u001B[0;34m=\u001B[0m\u001B[0;32mFalse\u001B[0m\u001B[0;34m,\u001B[0m \u001B[0mreturn_dist\u001B[0m\u001B[0;34m=\u001B[0m\u001B[0;32mFalse\u001B[0m\u001B[0;34m,\u001B[0m \u001B[0;34m**\u001B[0m\u001B[0mkwargs\u001B[0m\u001B[0;34m)\u001B[0m\u001B[0;34m:\u001B[0m\u001B[0;34m\u001B[0m\u001B[0;34m\u001B[0m\u001B[0m\n\u001B[0;32m---> 45\u001B[0;31m     \u001B[0menv\u001B[0m\u001B[0;34m:\u001B[0m \u001B[0mPlasticineEnv\u001B[0m \u001B[0;34m=\u001B[0m \u001B[0mgym\u001B[0m\u001B[0;34m.\u001B[0m\u001B[0mmake\u001B[0m\u001B[0;34m(\u001B[0m\u001B[0menv_name\u001B[0m\u001B[0;34m,\u001B[0m \u001B[0mnn\u001B[0m\u001B[0;34m=\u001B[0m\u001B[0mnn\u001B[0m\u001B[0;34m,\u001B[0m \u001B[0mreturn_dist\u001B[0m\u001B[0;34m=\u001B[0m\u001B[0mreturn_dist\u001B[0m\u001B[0;34m,\u001B[0m \u001B[0;34m**\u001B[0m\u001B[0mkwargs\u001B[0m\u001B[0;34m)\u001B[0m\u001B[0;34m\u001B[0m\u001B[0;34m\u001B[0m\u001B[0m\n\u001B[0m\u001B[1;32m     46\u001B[0m     \u001B[0;32mreturn\u001B[0m \u001B[0menv\u001B[0m\u001B[0;34m\u001B[0m\u001B[0;34m\u001B[0m\u001B[0m\n",
      "\u001B[0;32m~/software/miniconda3/envs/plb/lib/python3.8/site-packages/gym/envs/registration.py\u001B[0m in \u001B[0;36mmake\u001B[0;34m(id, **kwargs)\u001B[0m\n\u001B[1;32m    143\u001B[0m \u001B[0;34m\u001B[0m\u001B[0m\n\u001B[1;32m    144\u001B[0m \u001B[0;32mdef\u001B[0m \u001B[0mmake\u001B[0m\u001B[0;34m(\u001B[0m\u001B[0mid\u001B[0m\u001B[0;34m,\u001B[0m \u001B[0;34m**\u001B[0m\u001B[0mkwargs\u001B[0m\u001B[0;34m)\u001B[0m\u001B[0;34m:\u001B[0m\u001B[0;34m\u001B[0m\u001B[0;34m\u001B[0m\u001B[0m\n\u001B[0;32m--> 145\u001B[0;31m     \u001B[0;32mreturn\u001B[0m \u001B[0mregistry\u001B[0m\u001B[0;34m.\u001B[0m\u001B[0mmake\u001B[0m\u001B[0;34m(\u001B[0m\u001B[0mid\u001B[0m\u001B[0;34m,\u001B[0m \u001B[0;34m**\u001B[0m\u001B[0mkwargs\u001B[0m\u001B[0;34m)\u001B[0m\u001B[0;34m\u001B[0m\u001B[0;34m\u001B[0m\u001B[0m\n\u001B[0m\u001B[1;32m    146\u001B[0m \u001B[0;34m\u001B[0m\u001B[0m\n\u001B[1;32m    147\u001B[0m \u001B[0;32mdef\u001B[0m \u001B[0mspec\u001B[0m\u001B[0;34m(\u001B[0m\u001B[0mid\u001B[0m\u001B[0;34m)\u001B[0m\u001B[0;34m:\u001B[0m\u001B[0;34m\u001B[0m\u001B[0;34m\u001B[0m\u001B[0m\n",
      "\u001B[0;32m~/software/miniconda3/envs/plb/lib/python3.8/site-packages/gym/envs/registration.py\u001B[0m in \u001B[0;36mmake\u001B[0;34m(self, path, **kwargs)\u001B[0m\n\u001B[1;32m     88\u001B[0m             \u001B[0mlogger\u001B[0m\u001B[0;34m.\u001B[0m\u001B[0minfo\u001B[0m\u001B[0;34m(\u001B[0m\u001B[0;34m'Making new env: %s'\u001B[0m\u001B[0;34m,\u001B[0m \u001B[0mpath\u001B[0m\u001B[0;34m)\u001B[0m\u001B[0;34m\u001B[0m\u001B[0;34m\u001B[0m\u001B[0m\n\u001B[1;32m     89\u001B[0m         \u001B[0mspec\u001B[0m \u001B[0;34m=\u001B[0m \u001B[0mself\u001B[0m\u001B[0;34m.\u001B[0m\u001B[0mspec\u001B[0m\u001B[0;34m(\u001B[0m\u001B[0mpath\u001B[0m\u001B[0;34m)\u001B[0m\u001B[0;34m\u001B[0m\u001B[0;34m\u001B[0m\u001B[0m\n\u001B[0;32m---> 90\u001B[0;31m         \u001B[0menv\u001B[0m \u001B[0;34m=\u001B[0m \u001B[0mspec\u001B[0m\u001B[0;34m.\u001B[0m\u001B[0mmake\u001B[0m\u001B[0;34m(\u001B[0m\u001B[0;34m**\u001B[0m\u001B[0mkwargs\u001B[0m\u001B[0;34m)\u001B[0m\u001B[0;34m\u001B[0m\u001B[0;34m\u001B[0m\u001B[0m\n\u001B[0m\u001B[1;32m     91\u001B[0m         \u001B[0;31m# We used to have people override _reset/_step rather than\u001B[0m\u001B[0;34m\u001B[0m\u001B[0;34m\u001B[0m\u001B[0;34m\u001B[0m\u001B[0m\n\u001B[1;32m     92\u001B[0m         \u001B[0;31m# reset/step. Set _gym_disable_underscore_compat = True on\u001B[0m\u001B[0;34m\u001B[0m\u001B[0;34m\u001B[0m\u001B[0;34m\u001B[0m\u001B[0m\n",
      "\u001B[0;32m~/software/miniconda3/envs/plb/lib/python3.8/site-packages/gym/envs/registration.py\u001B[0m in \u001B[0;36mmake\u001B[0;34m(self, **kwargs)\u001B[0m\n\u001B[1;32m     58\u001B[0m         \u001B[0;32melse\u001B[0m\u001B[0;34m:\u001B[0m\u001B[0;34m\u001B[0m\u001B[0;34m\u001B[0m\u001B[0m\n\u001B[1;32m     59\u001B[0m             \u001B[0mcls\u001B[0m \u001B[0;34m=\u001B[0m \u001B[0mload\u001B[0m\u001B[0;34m(\u001B[0m\u001B[0mself\u001B[0m\u001B[0;34m.\u001B[0m\u001B[0mentry_point\u001B[0m\u001B[0;34m)\u001B[0m\u001B[0;34m\u001B[0m\u001B[0;34m\u001B[0m\u001B[0m\n\u001B[0;32m---> 60\u001B[0;31m             \u001B[0menv\u001B[0m \u001B[0;34m=\u001B[0m \u001B[0mcls\u001B[0m\u001B[0;34m(\u001B[0m\u001B[0;34m**\u001B[0m\u001B[0m_kwargs\u001B[0m\u001B[0;34m)\u001B[0m\u001B[0;34m\u001B[0m\u001B[0;34m\u001B[0m\u001B[0m\n\u001B[0m\u001B[1;32m     61\u001B[0m \u001B[0;34m\u001B[0m\u001B[0m\n\u001B[1;32m     62\u001B[0m         \u001B[0;31m# Make the environment aware of which spec it came from.\u001B[0m\u001B[0;34m\u001B[0m\u001B[0;34m\u001B[0m\u001B[0;34m\u001B[0m\u001B[0m\n",
      "\u001B[0;32m~/Projects/PlasticineLab/plb/envs/multitask_env.py\u001B[0m in \u001B[0;36m__init__\u001B[0;34m(self, cfg_path, version, nn, loss, return_dist, generating_cached_state)\u001B[0m\n\u001B[1;32m     37\u001B[0m             \u001B[0mself\u001B[0m\u001B[0;34m.\u001B[0m\u001B[0mnum_inits\u001B[0m \u001B[0;34m=\u001B[0m \u001B[0mlen\u001B[0m\u001B[0;34m(\u001B[0m\u001B[0mglob\u001B[0m\u001B[0;34m.\u001B[0m\u001B[0mglob\u001B[0m\u001B[0;34m(\u001B[0m\u001B[0mosp\u001B[0m\u001B[0;34m.\u001B[0m\u001B[0mjoin\u001B[0m\u001B[0;34m(\u001B[0m\u001B[0mself\u001B[0m\u001B[0;34m.\u001B[0m\u001B[0mcfg\u001B[0m\u001B[0;34m.\u001B[0m\u001B[0mcached_state_path\u001B[0m\u001B[0;34m,\u001B[0m \u001B[0;34m'init/state_*.xz'\u001B[0m\u001B[0;34m)\u001B[0m\u001B[0;34m)\u001B[0m\u001B[0;34m)\u001B[0m\u001B[0;34m\u001B[0m\u001B[0;34m\u001B[0m\u001B[0m\n\u001B[1;32m     38\u001B[0m             \u001B[0mself\u001B[0m\u001B[0;34m.\u001B[0m\u001B[0mnum_targets\u001B[0m \u001B[0;34m=\u001B[0m \u001B[0mlen\u001B[0m\u001B[0;34m(\u001B[0m\u001B[0mglob\u001B[0m\u001B[0;34m.\u001B[0m\u001B[0mglob\u001B[0m\u001B[0;34m(\u001B[0m\u001B[0mosp\u001B[0m\u001B[0;34m.\u001B[0m\u001B[0mjoin\u001B[0m\u001B[0;34m(\u001B[0m\u001B[0mself\u001B[0m\u001B[0;34m.\u001B[0m\u001B[0mcfg\u001B[0m\u001B[0;34m.\u001B[0m\u001B[0mcached_state_path\u001B[0m\u001B[0;34m,\u001B[0m \u001B[0;34m'target/target_*.npy'\u001B[0m\u001B[0;34m)\u001B[0m\u001B[0;34m)\u001B[0m\u001B[0;34m)\u001B[0m \u001B[0;34m-\u001B[0m \u001B[0;36m1\u001B[0m  \u001B[0;31m# Remove target_imgs.npy\u001B[0m\u001B[0;34m\u001B[0m\u001B[0;34m\u001B[0m\u001B[0m\n\u001B[0;32m---> 39\u001B[0;31m             \u001B[0mself\u001B[0m\u001B[0;34m.\u001B[0m\u001B[0m_load_target_imgs\u001B[0m\u001B[0;34m(\u001B[0m\u001B[0;34m)\u001B[0m\u001B[0;34m\u001B[0m\u001B[0;34m\u001B[0m\u001B[0m\n\u001B[0m\u001B[1;32m     40\u001B[0m \u001B[0;34m\u001B[0m\u001B[0m\n\u001B[1;32m     41\u001B[0m         \u001B[0mself\u001B[0m\u001B[0;34m.\u001B[0m\u001B[0mtaichi_env\u001B[0m\u001B[0;34m.\u001B[0m\u001B[0mset_copy\u001B[0m\u001B[0;34m(\u001B[0m\u001B[0;32mTrue\u001B[0m\u001B[0;34m)\u001B[0m\u001B[0;34m\u001B[0m\u001B[0;34m\u001B[0m\u001B[0m\n",
      "\u001B[0;32m~/Projects/PlasticineLab/plb/envs/multitask_env.py\u001B[0m in \u001B[0;36m_load_target_imgs\u001B[0;34m(self)\u001B[0m\n\u001B[1;32m     48\u001B[0m \u001B[0;34m\u001B[0m\u001B[0m\n\u001B[1;32m     49\u001B[0m     \u001B[0;32mdef\u001B[0m \u001B[0m_load_target_imgs\u001B[0m\u001B[0;34m(\u001B[0m\u001B[0mself\u001B[0m\u001B[0;34m)\u001B[0m\u001B[0;34m:\u001B[0m\u001B[0;34m\u001B[0m\u001B[0;34m\u001B[0m\u001B[0m\n\u001B[0;32m---> 50\u001B[0;31m         \u001B[0mnp_target_imgs\u001B[0m \u001B[0;34m=\u001B[0m \u001B[0mnp\u001B[0m\u001B[0;34m.\u001B[0m\u001B[0mload\u001B[0m\u001B[0;34m(\u001B[0m\u001B[0mos\u001B[0m\u001B[0;34m.\u001B[0m\u001B[0mpath\u001B[0m\u001B[0;34m.\u001B[0m\u001B[0mjoin\u001B[0m\u001B[0;34m(\u001B[0m\u001B[0mself\u001B[0m\u001B[0;34m.\u001B[0m\u001B[0mcfg\u001B[0m\u001B[0;34m.\u001B[0m\u001B[0mcached_state_path\u001B[0m\u001B[0;34m,\u001B[0m \u001B[0;34m'target/target_imgs.npy'\u001B[0m\u001B[0;34m)\u001B[0m\u001B[0;34m)\u001B[0m\u001B[0;34m\u001B[0m\u001B[0;34m\u001B[0m\u001B[0m\n\u001B[0m\u001B[1;32m     51\u001B[0m         \u001B[0mself\u001B[0m\u001B[0;34m.\u001B[0m\u001B[0mtarget_imgs\u001B[0m \u001B[0;34m=\u001B[0m \u001B[0mnp_target_imgs\u001B[0m\u001B[0;34m\u001B[0m\u001B[0;34m\u001B[0m\u001B[0m\n\u001B[1;32m     52\u001B[0m \u001B[0;34m\u001B[0m\u001B[0m\n",
      "\u001B[0;32m~/software/miniconda3/envs/plb/lib/python3.8/site-packages/numpy/lib/npyio.py\u001B[0m in \u001B[0;36mload\u001B[0;34m(file, mmap_mode, allow_pickle, fix_imports, encoding)\u001B[0m\n\u001B[1;32m    415\u001B[0m             \u001B[0mown_fid\u001B[0m \u001B[0;34m=\u001B[0m \u001B[0;32mFalse\u001B[0m\u001B[0;34m\u001B[0m\u001B[0;34m\u001B[0m\u001B[0m\n\u001B[1;32m    416\u001B[0m         \u001B[0;32melse\u001B[0m\u001B[0;34m:\u001B[0m\u001B[0;34m\u001B[0m\u001B[0;34m\u001B[0m\u001B[0m\n\u001B[0;32m--> 417\u001B[0;31m             \u001B[0mfid\u001B[0m \u001B[0;34m=\u001B[0m \u001B[0mstack\u001B[0m\u001B[0;34m.\u001B[0m\u001B[0menter_context\u001B[0m\u001B[0;34m(\u001B[0m\u001B[0mopen\u001B[0m\u001B[0;34m(\u001B[0m\u001B[0mos_fspath\u001B[0m\u001B[0;34m(\u001B[0m\u001B[0mfile\u001B[0m\u001B[0;34m)\u001B[0m\u001B[0;34m,\u001B[0m \u001B[0;34m\"rb\"\u001B[0m\u001B[0;34m)\u001B[0m\u001B[0;34m)\u001B[0m\u001B[0;34m\u001B[0m\u001B[0;34m\u001B[0m\u001B[0m\n\u001B[0m\u001B[1;32m    418\u001B[0m             \u001B[0mown_fid\u001B[0m \u001B[0;34m=\u001B[0m \u001B[0;32mTrue\u001B[0m\u001B[0;34m\u001B[0m\u001B[0;34m\u001B[0m\u001B[0m\n\u001B[1;32m    419\u001B[0m \u001B[0;34m\u001B[0m\u001B[0m\n",
      "\u001B[0;31mFileNotFoundError\u001B[0m: [Errno 2] No such file or directory: 'datasets/CutRearrange/target/target_imgs.npy'"
     ]
    }
   ],
   "source": [
    "from plb.envs import make\n",
    "from diffskill.env_spec import set_render_mode\n",
    "\n",
    "env = make('CutRearrange-v1', nn=False)\n",
    "set_render_mode(env, 'CutRearrange-v1')"
   ]
  },
  {
   "cell_type": "code",
   "execution_count": null,
   "metadata": {
    "collapsed": false,
    "jupyter": {
     "outputs_hidden": false
    },
    "pycharm": {
     "name": "#%%\n"
    }
   },
   "outputs": [],
   "source": [
    "from diffskill.env_spec import get_tool_spec\n",
    "tool_spec = get_tool_spec(env, 'CutRearrange-v1')"
   ]
  },
  {
   "cell_type": "code",
   "execution_count": null,
   "metadata": {
    "collapsed": false,
    "jupyter": {
     "outputs_hidden": false
    },
    "pycharm": {
     "name": "#%%\n"
    }
   },
   "outputs": [],
   "source": [
    "import matplotlib.pyplot as plt\n",
    "img = env.render('rgb', img_size=512)\n",
    "print(img.shape)\n",
    "plt.imshow(img[:, :, :3])\n",
    "plt.show()"
   ]
  },
  {
   "cell_type": "code",
   "execution_count": 5,
   "metadata": {
    "collapsed": false,
    "jupyter": {
     "outputs_hidden": false
    },
    "pycharm": {
     "name": "#%%\n"
    }
   },
   "outputs": [
    {
     "name": "stderr",
     "output_type": "stream",
     "text": [
      "100%|██████████████████████████████████████████████████████████████████████████████████████████████████████████████████████████████████| 210/210 [00:00<00:00, 883454.20it/s]\n",
      "100%|██████████████████████████████████████████████████████████████████████████████████████████████████████████████████████████████████| 210/210 [00:00<00:00, 884341.20it/s]\n",
      "100%|██████████████████████████████████████████████████████████████████████████████████████████████████████████████████████████████████| 210/210 [00:00<00:00, 792802.74it/s]\n",
      "100%|██████████████████████████████████████████████████████████████████████████████████████████████████████████████████████████████████| 210/210 [00:00<00:00, 247347.33it/s]\n",
      "100%|██████████████████████████████████████████████████████████████████████████████████████████████████████████████████████████████████| 350/350 [00:00<00:00, 958854.60it/s]\n",
      "100%|██████████████████████████████████████████████████████████████████████████████████████████████████████████████████████████████████| 350/350 [00:00<00:00, 838860.80it/s]\n",
      "100%|██████████████████████████████████████████████████████████████████████████████████████████████████████████████████████████████████| 350/350 [00:00<00:00, 890780.58it/s]\n",
      "100%|██████████████████████████████████████████████████████████████████████████████████████████████████████████████████████████████████| 350/350 [00:00<00:00, 978670.93it/s]\n",
      "100%|██████████████████████████████████████████████████████████████████████████████████████████████████████████████████████████████████| 140/140 [00:00<00:00, 816693.41it/s]\n",
      "100%|██████████████████████████████████████████████████████████████████████████████████████████████████████████████████████████████████| 140/140 [00:00<00:00, 685984.30it/s]\n",
      "100%|██████████████████████████████████████████████████████████████████████████████████████████████████████████████████████████████████| 140/140 [00:00<00:00, 806596.92it/s]\n",
      "100%|██████████████████████████████████████████████████████████████████████████████████████████████████████████████████████████████████| 140/140 [00:00<00:00, 781894.22it/s]\n"
     ]
    }
   ],
   "source": [
    "import tqdm\n",
    "import glob\n",
    "\n",
    "trajs = []\n",
    "\n",
    "for i in range(4):\n",
    "    out = sorted(glob.glob(f'sols/sol{i}/traj*_*.pkl'))\n",
    "    for idx, j in enumerate(tqdm.tqdm(out, total=len(out))):\n",
    "        sol_path = j\n",
    "        goal_path = ('_'.join(j.split('_')[:-1])+'.pkl').replace('sols/sol', 'data/')\n",
    "        trajs.append([sol_path, goal_path, j.split('.')[0][-1]])\n",
    "\n",
    "for i in range(4):\n",
    "    out = sorted(glob.glob(f'obey/obey{i}/traj*_*.pkl'))\n",
    "    for idx, j in enumerate(tqdm.tqdm(out, total=len(out))):\n",
    "        sol_path = j\n",
    "        goal_path = ('_'.join(j.split('_')[:-1])+'.pkl').replace('obey/obey', 'data/')\n",
    "        trajs.append([sol_path, goal_path,  j.split('.')[0][-1]])\n",
    "\n",
    "for i in range(4):\n",
    "    out = sorted(glob.glob(f'sol_remain{i}/traj*_*.pkl'))\n",
    "    for idx, j in enumerate(tqdm.tqdm(out, total=len(out))):\n",
    "        sol_path = j\n",
    "        goal_path = ('_'.join(j.split('_')[:-1])+'.pkl').replace('sol_remain', 'data/')\n",
    "        trajs.append([sol_path, goal_path,  j.split('.')[0][-1]])\n"
   ]
  },
  {
   "cell_type": "code",
   "execution_count": 6,
   "metadata": {
    "collapsed": false,
    "jupyter": {
     "outputs_hidden": false
    },
    "pycharm": {
     "name": "#%%\n"
    }
   },
   "outputs": [],
   "source": [
    "tool_spec = get_tool_spec(env, 'CutRearrange-v1')"
   ]
  },
  {
   "cell_type": "code",
   "execution_count": 31,
   "metadata": {
    "collapsed": false,
    "jupyter": {
     "outputs_hidden": false
    },
    "pycharm": {
     "name": "#%%\n"
    }
   },
   "outputs": [],
   "source": [
    "from sample_utils import execute\n",
    "from imitation.imitation_buffer import ImitationReplayBuffer\n",
    "\n",
    "buffer = ImitationReplayBuffer(None)"
   ]
  },
  {
   "cell_type": "code",
   "execution_count": 8,
   "metadata": {
    "collapsed": false,
    "jupyter": {
     "outputs_hidden": false
    },
    "pycharm": {
     "name": "#%%\n"
    }
   },
   "outputs": [
    {
     "name": "stdout",
     "output_type": "stream",
     "text": [
      "False\n"
     ]
    }
   ],
   "source": [
    "print(env.env.generating_cached_state)"
   ]
  },
  {
   "cell_type": "code",
   "execution_count": 32,
   "metadata": {
    "collapsed": false,
    "jupyter": {
     "outputs_hidden": false
    },
    "pycharm": {
     "name": "#%%\n"
    }
   },
   "outputs": [
    {
     "name": "stderr",
     "output_type": "stream",
     "text": [
      "  0%|                                                                                                                                               | 0/2800 [00:00<?, ?it/s]"
     ]
    },
    {
     "name": "stdout",
     "output_type": "stream",
     "text": [
      "Env reseting to: /home/hza/PlasticineLab/plb/cut/cached_state_path/target/target_1.npy, init v: 1, target v: 1\n",
      "emd after reset: 0.31138134002685547\n"
     ]
    },
    {
     "name": "stderr",
     "output_type": "stream",
     "text": [
      "  0%|                                                                                                                                    | 1/2800 [00:24<19:06:58, 24.59s/it]\n"
     ]
    }
   ],
   "source": [
    "import torch\n",
    "import time\n",
    "import numpy as np\n",
    "\n",
    "\n",
    "for idx, (sol, goal, tid) in enumerate(tqdm.tqdm(trajs, total=len(trajs))):\n",
    "    a = torch.load(sol)\n",
    "    b = torch.load(goal)\n",
    "    if idx == 0:\n",
    "        continue\n",
    "\n",
    "    tid = int(tid)\n",
    "    action_mask = tool_spec['action_masks'][tid]\n",
    "    contact_loss_mask = tool_spec['contact_loss_masks'][tid]\n",
    "\n",
    "    initial_state = a['initial_state']\n",
    "    goal_state = b[1]\n",
    "    best_action = a['best_action']\n",
    "\n",
    "    infos = []\n",
    "    reset_key = {\n",
    "        'init_v': idx,\n",
    "        'target_v': idx,\n",
    "    }\n",
    "\n",
    "    reset_key['contact_loss_mask'] = contact_loss_mask\n",
    "\n",
    "    state = env.reset(**reset_key) #TODO: contact loss mask..\n",
    "    obs = env.render(mode='rgb')  # rgbd observation\n",
    "\n",
    "    states, obses, actions, rewards, succs, scores = [], [], [], [], [0.], [0.]  # Append 0 for the first frame for succs and scores\n",
    "    states.append(state.astype(np.float32))\n",
    "    obses.append(obs)\n",
    "\n",
    "    T = 50\n",
    "    total_r = 0\n",
    "\n",
    "    total_time = 0\n",
    "    agent_time = 0\n",
    "    env_time = 0\n",
    "    st_time = time.time()\n",
    "    actions = best_action\n",
    "\n",
    "    _, _, _, info = env.step(np.zeros(best_action[-1].shape[-1]))\n",
    "    infos = [info]\n",
    "\n",
    "\n",
    "    agent_time = time.time() - st_time\n",
    "\n",
    "    import tqdm\n",
    "    for i in range(T):\n",
    "        t1 = time.time()\n",
    "        next_state, reward, _, info = env.step(best_action[i])\n",
    "        infos.append(info)\n",
    "        env_time += time.time() - t1\n",
    "        states.append(next_state)\n",
    "        obs = env.taichi_env.render(mode='rgb')\n",
    "        obses.append(obs)\n",
    "        total_r += reward\n",
    "        rewards.append(reward)\n",
    "\n",
    "        # mass_grids.append(info['mass_grid'])\n",
    "    target_img = env.target_img\n",
    "\n",
    "    emds = np.array([info['info_emd'] for info in infos])\n",
    "    info_normalized_performance = np.array([info['info_normalized_performance'] for info in infos])\n",
    "\n",
    "\n",
    "    total_time = time.time() - st_time\n",
    "    ret = {'states': np.array(states).astype(np.float32),\n",
    "           'obses': np.array(obses).astype(np.float32),\n",
    "           'actions': np.array(actions).astype(np.float32),\n",
    "           'target_img': target_img,\n",
    "           'rewards': np.array(rewards),\n",
    "           'info_rewards': np.array(rewards),\n",
    "           'info_emds': emds,\n",
    "           'info_final_normalized_performance': np.array(info_normalized_performance[-1]),\n",
    "           'info_normalized_performance': info_normalized_performance,\n",
    "           'info_total_r': total_r,\n",
    "           'info_total_time': total_time,\n",
    "           'info_agent_time': agent_time,\n",
    "           'info_env_time': env_time,\n",
    "           'action_mask': action_mask}\n",
    "\n",
    "    ret.update(**reset_key)\n",
    "    buffer.add(ret)\n",
    "\n",
    "    if idx == 1:\n",
    "        break"
   ]
  },
  {
   "cell_type": "code",
   "execution_count": 56,
   "metadata": {
    "collapsed": false,
    "jupyter": {
     "outputs_hidden": false
    },
    "pycharm": {
     "name": "#%%\n"
    }
   },
   "outputs": [
    {
     "name": "stderr",
     "output_type": "stream",
     "text": [
      "gen_reset_motion:   0%|                                                                                                                                | 0/1 [00:00<?, ?it/s]"
     ]
    },
    {
     "name": "stdout",
     "output_type": "stream",
     "text": [
      "Env reseting to: /home/hza/PlasticineLab/plb/cut/cached_state_path/target/target_1.npy, init v: 1, target v: 1\n",
      "emd after reset: 0.31138134002685547\n",
      "======================WARNING: contact loss mask not set================\n",
      "reset gripper2\n",
      "[0.5        0.1        0.5        0.70700002 0.         0.70700002\n",
      " 0.         0.18000001] [0.6439867  0.10954438 0.19618082 0.70710677 0.         0.70710677\n",
      " 0.         0.08      ]\n",
      "0\n",
      "reset gripper2\n",
      "[0.5        0.1        0.5        0.70700002 0.         0.70700002\n",
      " 0.         0.18000001] [0.6439867  0.10954438 0.19618082 0.70710677 0.         0.70710677\n",
      " 0.         0.09499998]\n",
      "0\n",
      "reset gripper2\n",
      "[0.5        0.1        0.5        0.70700002 0.         0.70700002\n",
      " 0.         0.18000001] [0.6439867  0.10954438 0.19618082 0.70710677 0.         0.70710677\n",
      " 0.         0.10774995]\n",
      "0\n",
      "reset gripper2\n",
      "[0.5        0.1        0.5        0.70700002 0.         0.70700002\n",
      " 0.         0.18000001] [0.6439867  0.10954438 0.19618082 0.70710677 0.         0.70710677\n",
      " 0.         0.11858751]\n",
      "0\n",
      "reset gripper2\n",
      "[0.5        0.1        0.5        0.70700002 0.         0.70700002\n",
      " 0.         0.18000001] [0.6439867  0.10954438 0.19618082 0.70710677 0.         0.70710677\n",
      " 0.         0.12779941]\n",
      "0\n",
      "reset gripper2\n",
      "[0.5        0.1        0.5        0.70700002 0.         0.70700002\n",
      " 0.         0.18000001] [0.6439867  0.10954438 0.19618082 0.70710677 0.         0.70710677\n",
      " 0.         0.13562967]\n",
      "0\n",
      "reset gripper2\n",
      "[0.5        0.1        0.5        0.70700002 0.         0.70700002\n",
      " 0.         0.18000001] [0.6439867  0.10954438 0.19618082 0.70710677 0.         0.70710677\n",
      " 0.         0.14228512]\n",
      "0\n",
      "reset gripper2\n",
      "[0.5        0.1        0.5        0.70700002 0.         0.70700002\n",
      " 0.         0.18000001] [0.6439867  0.10954438 0.19618082 0.70710677 0.         0.70710677\n",
      " 0.         0.14794244]\n",
      "0\n",
      "reset gripper2\n",
      "[0.5        0.1        0.5        0.70700002 0.         0.70700002\n",
      " 0.         0.18000001] [0.6439867  0.10954438 0.19618082 0.70710677 0.         0.70710677\n",
      " 0.         0.1527511 ]\n",
      "0\n",
      "reset gripper2\n",
      "[0.5        0.1        0.5        0.70700002 0.         0.70700002\n",
      " 0.         0.18000001] [0.6439867  0.10954438 0.19618082 0.70710677 0.         0.70710677\n",
      " 0.         0.15683843]\n",
      "0\n",
      "reset gripper2\n",
      "[0.5        0.1        0.5        0.70700002 0.         0.70700002\n",
      " 0.         0.18000001] [0.6439867  0.10954438 0.19618082 0.70710677 0.         0.70710677\n",
      " 0.         0.16031279]\n",
      "0\n",
      "reset gripper2\n",
      "[0.5        0.1        0.5        0.70700002 0.         0.70700002\n",
      " 0.         0.18000001] [0.6439867  0.10954438 0.19618082 0.70710677 0.         0.70710677\n",
      " 0.         0.16326572]\n",
      "0\n",
      "reset gripper2\n",
      "[0.5        0.1        0.5        0.70700002 0.         0.70700002\n",
      " 0.         0.18000001] [0.6439867  0.10954438 0.19618082 0.70710677 0.         0.70710677\n",
      " 0.         0.16577591]\n",
      "0\n",
      "reset gripper2\n",
      "[0.5        0.1        0.5        0.70700002 0.         0.70700002\n",
      " 0.         0.18000001] [0.6439867  0.10954438 0.19618082 0.70710677 0.         0.70710677\n",
      " 0.         0.16790952]\n",
      "0\n",
      "reset gripper2\n",
      "[0.5        0.1        0.5        0.70700002 0.         0.70700002\n",
      " 0.         0.18000001] [0.6439867  0.10954438 0.19618082 0.70710677 0.         0.70710677\n",
      " 0.         0.16972305]\n",
      "0\n",
      "reset gripper2\n",
      "[0.5        0.1        0.5        0.70700002 0.         0.70700002\n",
      " 0.         0.18000001] [0.6439867  0.10954438 0.19618082 0.70710677 0.         0.70710677\n",
      " 0.         0.17126442]\n",
      "reset gripper2\n",
      "[0.5        0.1        0.5        0.70700002 0.         0.70700002\n",
      " 0.         0.18000001] [0.6439867  0.12454437 0.19618082 0.70710677 0.         0.70710677\n",
      " 0.         0.17126442]\n",
      "reset gripper2\n",
      "[0.5        0.1        0.5        0.70700002 0.         0.70700002\n",
      " 0.         0.18000001] [0.6439867  0.13954435 0.19618082 0.70710677 0.         0.70710677\n",
      " 0.         0.17126442]\n",
      "reset gripper2\n",
      "[0.5        0.1        0.5        0.70700002 0.         0.70700002\n",
      " 0.         0.18000001] [0.6439867  0.15454434 0.19618082 0.70710677 0.         0.70710677\n",
      " 0.         0.17126442]\n",
      "reset gripper2\n",
      "[0.5        0.1        0.5        0.70700002 0.         0.70700002\n",
      " 0.         0.18000001] [0.6439867  0.16954432 0.19618082 0.70710677 0.         0.70710677\n",
      " 0.         0.17126442]\n",
      "reset gripper2\n",
      "[0.5        0.1        0.5        0.70700002 0.         0.70700002\n",
      " 0.         0.18000001] [0.6439867  0.18454431 0.19618082 0.70710677 0.         0.70710677\n",
      " 0.         0.17126442]\n",
      "reset gripper2\n",
      "[0.5        0.1        0.5        0.70700002 0.         0.70700002\n",
      " 0.         0.18000001] [0.6439867  0.1995443  0.19618082 0.70710677 0.         0.70710677\n",
      " 0.         0.17126442]\n",
      "reset gripper2\n",
      "[0.5        0.1        0.5        0.70700002 0.         0.70700002\n",
      " 0.         0.18000001] [0.6439867  0.21454428 0.19618082 0.70710677 0.         0.70710677\n",
      " 0.         0.17126442]\n",
      "reset gripper2\n",
      "[0.5        0.1        0.5        0.70700002 0.         0.70700002\n",
      " 0.         0.18000001] [0.6439867  0.22954427 0.19618082 0.70710677 0.         0.70710677\n",
      " 0.         0.17126442]\n",
      "reset gripper2\n",
      "[0.5        0.1        0.5        0.70700002 0.         0.70700002\n",
      " 0.         0.18000001] [0.6439867  0.24454425 0.19618082 0.70710677 0.         0.70710677\n",
      " 0.         0.17126442]\n",
      "reset gripper2\n",
      "[0.5        0.1        0.5        0.70700002 0.         0.70700002\n",
      " 0.         0.18000001] [0.6439867  0.25954446 0.19618082 0.70710677 0.         0.70710677\n",
      " 0.         0.17126442]\n",
      "reset gripper2\n",
      "[0.5        0.1        0.5        0.70700002 0.         0.70700002\n",
      " 0.         0.18000001] [0.6439867  0.27454481 0.19618082 0.70710677 0.         0.70710677\n",
      " 0.         0.17126442]\n",
      "reset gripper2\n",
      "[0.5        0.1        0.5        0.70700002 0.         0.70700002\n",
      " 0.         0.18000001] [0.6439867  0.28954515 0.19618082 0.70710677 0.         0.70710677\n",
      " 0.         0.17126442]\n",
      "reset gripper2\n",
      "[0.5        0.1        0.5        0.70700002 0.         0.70700002\n",
      " 0.         0.18000001] [0.6439867  0.29581794 0.19618082 0.70710677 0.         0.70710677\n",
      " 0.         0.17126442]\n",
      "reset gripper2\n",
      "[0.5        0.1        0.5        0.70700002 0.         0.70700002\n",
      " 0.         0.18000001] [0.62898636 0.29581794 0.21118081 0.70710677 0.         0.70710677\n",
      " 0.         0.17126442]\n",
      "reset gripper2\n",
      "[0.5        0.1        0.5        0.70700002 0.         0.70700002\n",
      " 0.         0.18000001] [0.61398602 0.29581794 0.22618079 0.70710677 0.         0.70710677\n",
      " 0.         0.17126442]\n",
      "reset gripper2\n",
      "[0.5        0.1        0.5        0.70700002 0.         0.70700002\n",
      " 0.         0.18000001] [0.59898567 0.29581794 0.24118078 0.70710677 0.         0.70710677\n",
      " 0.         0.17126442]\n",
      "reset gripper2\n",
      "[0.5        0.1        0.5        0.70700002 0.         0.70700002\n",
      " 0.         0.18000001] [0.58398533 0.29581794 0.25618091 0.70710677 0.         0.70710677\n",
      " 0.         0.17126442]\n",
      "reset gripper2\n",
      "[0.5        0.1        0.5        0.70700002 0.         0.70700002\n",
      " 0.         0.18000001] [0.56898499 0.29581794 0.27118126 0.70710677 0.         0.70710677\n",
      " 0.         0.17126442]\n",
      "reset gripper2\n",
      "[0.5        0.1        0.5        0.70700002 0.         0.70700002\n",
      " 0.         0.18000001] [0.55398464 0.29581794 0.2861816  0.70710677 0.         0.70710677\n",
      " 0.         0.17126442]\n",
      "reset gripper2\n",
      "[0.5        0.1        0.5        0.70700002 0.         0.70700002\n",
      " 0.         0.18000001] [0.5389843  0.29581794 0.30118194 0.70710677 0.         0.70710677\n",
      " 0.         0.17126442]\n",
      "reset gripper2\n",
      "[0.5        0.1        0.5        0.70700002 0.         0.70700002\n",
      " 0.         0.18000001] [0.52398396 0.29581794 0.31618229 0.70710677 0.         0.70710677\n",
      " 0.         0.17126442]\n",
      "reset gripper2\n",
      "[0.5        0.1        0.5        0.70700002 0.         0.70700002\n",
      " 0.         0.18000001] [0.50959301 0.29581794 0.33118263 0.70710677 0.         0.70710677\n",
      " 0.         0.17126442]\n",
      "reset gripper2\n",
      "[0.5        0.1        0.5        0.70700002 0.         0.70700002\n",
      " 0.         0.18000001] [0.50383663 0.29581794 0.34618297 0.70710677 0.         0.70710677\n",
      " 0.         0.17126442]\n",
      "reset gripper2\n",
      "[0.5        0.1        0.5        0.70700002 0.         0.70700002\n",
      " 0.         0.18000001] [0.50153494 0.29581794 0.36118332 0.70710677 0.         0.70710677\n",
      " 0.         0.17126442]\n",
      "reset gripper2\n",
      "[0.5        0.1        0.5        0.70700002 0.         0.70700002\n",
      " 0.         0.18000001] [0.50061369 0.29581794 0.37618366 0.70710677 0.         0.70710677\n",
      " 0.         0.17126442]\n",
      "reset gripper2\n",
      "[0.5        0.1        0.5        0.70700002 0.         0.70700002\n",
      " 0.         0.18000001] [0.50024605 0.29581794 0.391184   0.70710677 0.         0.70710677\n",
      " 0.         0.17126442]\n",
      "reset gripper2\n",
      "[0.5        0.1        0.5        0.70700002 0.         0.70700002\n",
      " 0.         0.18000001] [0.50009871 0.29581794 0.40618435 0.70710677 0.         0.70710677\n",
      " 0.         0.17126442]\n",
      "reset gripper2\n",
      "[0.5        0.1        0.5        0.70700002 0.         0.70700002\n",
      " 0.         0.18000001] [0.50004005 0.29581794 0.42118469 0.70710677 0.         0.70710677\n",
      " 0.         0.17126442]\n",
      "reset gripper2\n",
      "[0.5        0.1        0.5        0.70700002 0.         0.70700002\n",
      " 0.         0.18000001] [0.50001574 0.29581794 0.43618503 0.70710677 0.         0.70710677\n",
      " 0.         0.17126442]\n",
      "reset gripper2\n",
      "[0.5        0.1        0.5        0.70700002 0.         0.70700002\n",
      " 0.         0.18000001] [0.50000572 0.29581794 0.45118538 0.70710677 0.         0.70710677\n",
      " 0.         0.17126442]\n",
      "reset gripper2\n",
      "[0.5        0.1        0.5        0.70700002 0.         0.70700002\n",
      " 0.         0.18000001] [0.50000286 0.29581794 0.46618572 0.70710677 0.         0.70710677\n",
      " 0.         0.17126442]\n",
      "reset gripper2\n",
      "[0.5        0.1        0.5        0.70700002 0.         0.70700002\n",
      " 0.         0.18000001] [0.50000143 0.29581794 0.48118606 0.70710677 0.         0.70710677\n",
      " 0.         0.17126442]\n",
      "reset gripper2\n",
      "[0.5        0.1        0.5        0.70700002 0.         0.70700002\n",
      " 0.         0.18000001] [0.5        0.29581794 0.49247423 0.70710677 0.         0.70710677\n",
      " 0.         0.17126442]\n",
      "reset gripper2\n",
      "[0.5        0.1        0.5        0.70700002 0.         0.70700002\n",
      " 0.         0.18000001] [0.5        0.2808176  0.49247423 0.70710677 0.         0.70710677\n",
      " 0.         0.17126442]\n",
      "reset gripper2\n",
      "[0.5        0.1        0.5        0.70700002 0.         0.70700002\n",
      " 0.         0.18000001] [0.5        0.26581725 0.49247423 0.70710677 0.         0.70710677\n",
      " 0.         0.17126442]\n",
      "reset gripper2\n",
      "[0.5        0.1        0.5        0.70700002 0.         0.70700002\n",
      " 0.         0.18000001] [0.5        0.25081691 0.49247423 0.70710677 0.         0.70710677\n",
      " 0.         0.17126442]\n",
      "reset gripper2\n",
      "[0.5        0.1        0.5        0.70700002 0.         0.70700002\n",
      " 0.         0.18000001] [0.5        0.23581691 0.49247423 0.70710677 0.         0.70710677\n",
      " 0.         0.17126442]\n",
      "reset gripper2\n",
      "[0.5        0.1        0.5        0.70700002 0.         0.70700002\n",
      " 0.         0.18000001] [0.5        0.22081693 0.49247423 0.70710677 0.         0.70710677\n",
      " 0.         0.17126442]\n",
      "reset gripper2\n",
      "[0.5        0.1        0.5        0.70700002 0.         0.70700002\n",
      " 0.         0.18000001] [0.5        0.20581694 0.49247423 0.70710677 0.         0.70710677\n",
      " 0.         0.17126442]\n",
      "reset gripper2\n",
      "[0.5        0.1        0.5        0.70700002 0.         0.70700002\n",
      " 0.         0.18000001] [0.5        0.19081695 0.49247423 0.70710677 0.         0.70710677\n",
      " 0.         0.17126442]\n",
      "reset gripper2\n",
      "[0.5        0.1        0.5        0.70700002 0.         0.70700002\n",
      " 0.         0.18000001] [0.5        0.17581697 0.49247423 0.70710677 0.         0.70710677\n",
      " 0.         0.17126442]\n",
      "reset gripper2\n",
      "[0.5        0.1        0.5        0.70700002 0.         0.70700002\n",
      " 0.         0.18000001] [0.5        0.16081698 0.49247423 0.70710677 0.         0.70710677\n",
      " 0.         0.17126442]\n",
      "reset gripper2\n",
      "[0.5        0.1        0.5        0.70700002 0.         0.70700002\n",
      " 0.         0.18000001] [0.5        0.145817   0.49247423 0.70710677 0.         0.70710677\n",
      " 0.         0.17126442]\n",
      "reset gripper2\n",
      "[0.5        0.1        0.5        0.70700002 0.         0.70700002\n",
      " 0.         0.18000001] [0.5        0.13081701 0.49247423 0.70710677 0.         0.70710677\n",
      " 0.         0.17126442]\n",
      "reset gripper2\n",
      "[0.5        0.1        0.5        0.70700002 0.         0.70700002\n",
      " 0.         0.18000001] [0.5        0.11581703 0.49247423 0.70710677 0.         0.70710677\n",
      " 0.         0.17126442]\n"
     ]
    },
    {
     "name": "stderr",
     "output_type": "stream",
     "text": [
      "gen_reset_motion: 100%|███████████████████████████████████████████████████████████████████████████████████████████████████████████████████████| 1/1 [04:52<00:00, 292.49s/it]"
     ]
    },
    {
     "name": "stdout",
     "output_type": "stream",
     "text": [
      "reset gripper2\n",
      "[0.5        0.1        0.5        0.70700002 0.         0.70700002\n",
      " 0.         0.18000001] [0.5        0.10632683 0.49247423 0.70710677 0.         0.70710677\n",
      " 0.         0.17126442]\n",
      "reset primitive in 61 steps\n",
      "info emds: [0.18495528 0.18550189 0.18557416 0.18556654 0.18548876 0.18549478\n",
      " 0.18554288 0.18550944 0.18551563 0.18551925 0.18550979 0.18549886\n",
      " 0.1854963  0.18550754 0.18551347 0.1855149  0.1855087  0.18551768\n",
      " 0.18552059 0.18548852]\n"
     ]
    },
    {
     "name": "stderr",
     "output_type": "stream",
     "text": [
      "\n"
     ]
    }
   ],
   "source": [
    "from imitation.generate_reset_motion import generate_reset_motion\n",
    "generate_reset_motion(buffer, env, reset_gripper2=True)"
   ]
  },
  {
   "cell_type": "code",
   "execution_count": 57,
   "metadata": {
    "collapsed": false,
    "jupyter": {
     "outputs_hidden": false
    },
    "pycharm": {
     "name": "#%%\n"
    }
   },
   "outputs": [
    {
     "name": "stdout",
     "output_type": "stream",
     "text": [
      "dumping to  dataset_path\n"
     ]
    }
   ],
   "source": [
    "import os\n",
    "buffer.save(os.path.join('dataset_path'))"
   ]
  },
  {
   "cell_type": "code",
   "execution_count": 58,
   "metadata": {
    "collapsed": false,
    "jupyter": {
     "outputs_hidden": false
    },
    "pycharm": {
     "name": "#%%\n"
    }
   },
   "outputs": [
    {
     "name": "stdout",
     "output_type": "stream",
     "text": [
      "Loading dataset in dataset_path\n",
      "Loading dataset from dataset_path\n",
      "visualize_dataset, N:  1\n",
      "loading img: /home/hza/PlasticineLab/plb/cut/cached_state_path/target/target_1.png\n",
      "MoviePy - Building file ./visualization.gif with imageio.\n"
     ]
    },
    {
     "name": "stderr",
     "output_type": "stream",
     "text": [
      "                                                                                                                                                                             \r"
     ]
    }
   ],
   "source": [
    "from imitation.utils import visualize_dataset\n",
    "visualize_dataset('dataset_path', env.cfg.cached_state_path, os.path.join('.', 'visualization.gif'), visualize_reset=True,\n",
    "                  overlay_target=True)"
   ]
  }
 ],
 "metadata": {
  "kernelspec": {
   "display_name": "Python 3",
   "language": "python",
   "name": "python3"
  },
  "language_info": {
   "codemirror_mode": {
    "name": "ipython",
    "version": 3
   },
   "file_extension": ".py",
   "mimetype": "text/x-python",
   "name": "python",
   "nbconvert_exporter": "python",
   "pygments_lexer": "ipython3",
   "version": "3.8.5"
  }
 },
 "nbformat": 4,
 "nbformat_minor": 4
}