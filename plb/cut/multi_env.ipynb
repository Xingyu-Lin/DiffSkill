{
 "cells": [
  {
   "cell_type": "code",
   "execution_count": 1,
   "metadata": {
    "tags": []
   },
   "outputs": [],
   "source": [
    "%load_ext autoreload\n",
    "%autoreload 2\n"
   ]
  },
  {
   "cell_type": "code",
   "execution_count": 2,
   "metadata": {
    "collapsed": false,
    "jupyter": {
     "outputs_hidden": false
    },
    "pycharm": {
     "name": "#%%\n"
    }
   },
   "outputs": [],
   "source": [
    "import os\n",
    "import numpy as np\n",
    "import torch\n",
    "path = '/home/hza/PlasticineLab/plb/envs/../../datasets/0706_PushSpread/target/target_1.npy'\n",
    "os.makedirs(os.path.dirname(path), exist_ok=True)\n",
    "np.save(path, np.zeros((10, 3)))"
   ]
  },
  {
   "cell_type": "code",
   "execution_count": 3,
   "metadata": {
    "collapsed": false,
    "jupyter": {
     "outputs_hidden": false
    },
    "pycharm": {
     "name": "#%%\n"
    }
   },
   "outputs": [
    {
     "name": "stdout",
     "output_type": "stream",
     "text": [
      "[Taichi] mode=release\n",
      "[Taichi] preparing sandbox at /tmp/taichi-o85mch_v\n",
      "[Taichi] version 0.7.26, llvm 10.0.0, commit e37bdb5e, linux, python 3.7.11\n",
      "[I 09/21/21 21:18:12.578 2025156] [shell.py:_shell_pop_print@35] Graphical python shell detected, using wrapped sys.stdout\n",
      "[Taichi] Starting on arch=cuda\n",
      "[Tina] version 0.1.1\n",
      "[Tina] Taichi properties hacked\n",
      "pimirives: num primitive: 2\n",
      "Building primitive\n",
      "action:\n",
      "  dim: 3\n",
      "  scale: (0.015, 0.015, 0.015)\n",
      "collision_group: [0.0, 0.0, 0.0]\n",
      "color: (0.8, 0.8, 0.8)\n",
      "friction: 0.0\n",
      "h: (0.125, 0.125)\n",
      "init_pos: (0.5, 0.3, 0.5)\n",
      "init_rot: (1.0, 0.0, 0.0, 0.0)\n",
      "lower_bound: (0.0, 0.0, 0.0)\n",
      "prot: (1.0, 0.0, 0.0, 0.58)\n",
      "shape: Knife\n",
      "size: (0.05, 0.2, 0.2)\n",
      "upper_bound: (1.0, 1.0, 1.0)\n",
      "variations: None\n",
      "Building primitive\n",
      "action:\n",
      "  dim: 0\n",
      "  scale: ()\n",
      "collision_group: [0.0, 0.0, 0.0]\n",
      "color: (0.3, 0.3, 0.3)\n",
      "friction: 0.9\n",
      "h: (0.125, 0.125)\n",
      "init_pos: (0.3, 0.3, 0.3)\n",
      "init_rot: (1.0, 0.0, 0.0, 0.0)\n",
      "lower_bound: (0.0, 0.0, 0.0)\n",
      "prot: (1.0, 0.0, 0.0, 0.58)\n",
      "shape: \n",
      "upper_bound: (1.0, 1.0, 1.0)\n",
      "variations: None\n",
      "Building primitive\n",
      "action:\n",
      "  dim: 0\n",
      "  scale: ()\n",
      "collision_group: [0.0, 0.0, 0.0]\n",
      "color: (0.3, 0.3, 0.3)\n",
      "friction: 0.9\n",
      "init_pos: (0.3, 0.3, 0.3)\n",
      "init_rot: (1.0, 0.0, 0.0, 0.0)\n",
      "lower_bound: (0.0, 0.0, 0.0)\n",
      "shape: \n",
      "size: (0.05, 0.2, 0.2)\n",
      "upper_bound: (1.0, 1.0, 1.0)\n",
      "variations: None\n",
      "Building primitive\n",
      "action:\n",
      "  dim: 7\n",
      "  scale: (0.01, 0.01, 0.01, 0.0, 0.0, 0.0, 0.015)\n",
      "collision_group: [0.0, 0.0, 0.0]\n",
      "color: (0.8, 0.8, 0.8)\n",
      "friction: 10.0\n",
      "init_gap: 0.2\n",
      "init_pos: (0.5, 0.075, 0.5)\n",
      "init_rot: (0.707, 0.0, 0.707, 0.0)\n",
      "lower_bound: (0.0, 0.0, 0.0)\n",
      "minimal_gap: 0.08\n",
      "round: 0\n",
      "shape: Gripper\n",
      "size: (0.015, 0.125, 0.06)\n",
      "upper_bound: (1.0, 1.0, 1.0)\n",
      "variations: None\n",
      "{'init_pos': (0.5, 0.08, 0.5), 'width': (0.2, 0.08, 0.1), 'color': 100, 'n_particles': 5000}\n",
      "Initialize Tina Renderer\n",
      "bake_size: 6  \n",
      "cam_center: (0.5, 0.4, 0.5)  \n",
      "cam_phi: -1.57  \n",
      "cam_radius: 1.0  \n",
      "cam_theta: 0.0  \n",
      "camera_pos: (0.5, 1.2, 4.0)  \n",
      "camera_rot: (0.2, 0)  \n",
      "dx: 0.006666666666666667  \n",
      "image_res: (512, 512)  \n",
      "light_direction: (0.0, 1.0, 1.0)  \n",
      "max_num_particles: 1000000  \n",
      "max_ray_depth: 2  \n",
      "mesh: False  \n",
      "name: tina  \n",
      "sdf_threshold: 0.20720000000000002  \n",
      "spp: 50  \n",
      "target_res: (64, 64, 64)  \n",
      "tina_img_res: 1024  \n",
      "use_directional_light: True  \n",
      "use_roulette: False  \n",
      "voxel_res: (168, 168, 168)\n",
      "[Tina] Hint: MMB to orbit, Shift+MMB to pan, wheel to zoom\n",
      "{'init_pos': (0.5, 0.08, 0.5), 'width': (0.2, 0.08, 0.1), 'color': 100, 'n_particles': 5000}\n",
      "{'init_pos': (0.5, 0.08, 0.5), 'width': (0.2, 0.08, 0.1), 'color': 100, 'n_particles': 5000}\n",
      "Env reset: No initial state during cache generation\n",
      "emd after reset: 0.7085899710655212\n",
      "======================WARNING: contact loss mask not set================\n"
     ]
    }
   ],
   "source": [
    "from plb.envs.multitask_env import MultitaskPlasticineEnv\n",
    "kwargs = {'cfg_path': \"../cut/cut_rearrange.yml\", \"version\": 1}\n",
    "\n",
    "env = MultitaskPlasticineEnv(generating_cached_state=True, **kwargs)\n",
    "\n",
    "set_render_mode(env, 'CutRearrange-v1')"
   ]
  },
  {
   "cell_type": "code",
   "execution_count": 4,
   "metadata": {
    "collapsed": false,
    "jupyter": {
     "outputs_hidden": false
    },
    "pycharm": {
     "name": "#%%\n"
    }
   },
   "outputs": [],
   "source": [
    "env.taichi_env.initialize()"
   ]
  },
  {
   "cell_type": "code",
   "execution_count": 5,
   "metadata": {
    "collapsed": false,
    "jupyter": {
     "outputs_hidden": false
    },
    "pycharm": {
     "name": "#%%\n"
    }
   },
   "outputs": [
    {
     "name": "stdout",
     "output_type": "stream",
     "text": [
      "cached_state_path: None\n",
      "loss:\n",
      "  soft_contact: False\n",
      "  target_file: None\n",
      "  target_path: ../datasets/0706_PushSpread/target\n",
      "  weight:\n",
      "    contact: 1\n",
      "    density: 10\n",
      "    sdf: 10\n",
      "n_observed_particles: 200\n"
     ]
    }
   ],
   "source": [
    "print(env.cfg)"
   ]
  },
  {
   "cell_type": "code",
   "execution_count": 27,
   "metadata": {
    "collapsed": false,
    "jupyter": {
     "outputs_hidden": false
    },
    "pycharm": {
     "name": "#%%\n"
    }
   },
   "outputs": [
    {
     "name": "stderr",
     "output_type": "stream",
     "text": [
      "Clipping input data to the valid range for imshow with RGB data ([0..1] for floats or [0..255] for integers).\n"
     ]
    },
    {
     "data": {
      "image/png": "[encoded data removed]",
      "text/plain": [
       "<Figure size 432x288 with 1 Axes>"
      ]
     },
     "metadata": {
      "needs_background": "light"
     },
     "output_type": "display_data"
    }
   ],
   "source": [
    "env.taichi_env.renderer.update_camera((0.5, 0.0, 0.5), 0., -1.57, 1.)\n",
    "env.taichi_env.primitives[0].set_state(0, (0., 0., 0.))\n",
    "env.taichi_env.primitives[1].set_state(0, (0.2, 0.15, 0.5, 0.707, 0., 0.707, 0., 0.04))\n",
    "import matplotlib.pyplot as plt\n",
    "plt.imshow(env.render('rgb', img_size=512))\n",
    "plt.show()"
   ]
  },
  {
   "cell_type": "code",
   "execution_count": 8,
   "metadata": {
    "collapsed": false,
    "jupyter": {
     "outputs_hidden": false
    },
    "pycharm": {
     "name": "#%%"
    }
   },
   "outputs": [
    {
     "name": "stdout",
     "output_type": "stream",
     "text": [
      "0.20000000298023224\n"
     ]
    }
   ],
   "source": []
  }
 ],
 "metadata": {
  "kernelspec": {
   "display_name": "Python 3",
   "language": "python",
   "name": "python3"
  },
  "language_info": {
   "codemirror_mode": {
    "name": "ipython",
    "version": 3
   },
   "file_extension": ".py",
   "mimetype": "text/x-python",
   "name": "python",
   "nbconvert_exporter": "python",
   "pygments_lexer": "ipython3",
   "version": "3.8.5"
  }
 },
 "nbformat": 4,
 "nbformat_minor": 4
}
